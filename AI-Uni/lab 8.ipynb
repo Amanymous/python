{
 "cells": [
  {
   "cell_type": "markdown",
   "metadata": {},
   "source": [
    "# 1. Write a python code to load an excel spreadsheet containing two different sheets and print bothof them."
   ]
  },
  {
   "cell_type": "code",
   "execution_count": 4,
   "metadata": {},
   "outputs": [],
   "source": [
    "import pandas as pd"
   ]
  },
  {
   "cell_type": "markdown",
   "metadata": {},
   "source": [
    "# 2. Write a python cade to generate a pandas data frame having 4 columns and 5 rows. Column 1must contain the index values like Ali, Amir, Kamran, etc and Row 1 must contain the subject names."
   ]
  },
  {
   "cell_type": "code",
   "execution_count": 11,
   "metadata": {},
   "outputs": [
    {
     "data": {
      "text/html": [
       "<div>\n",
       "<style scoped>\n",
       "    .dataframe tbody tr th:only-of-type {\n",
       "        vertical-align: middle;\n",
       "    }\n",
       "\n",
       "    .dataframe tbody tr th {\n",
       "        vertical-align: top;\n",
       "    }\n",
       "\n",
       "    .dataframe thead th {\n",
       "        text-align: right;\n",
       "    }\n",
       "</style>\n",
       "<table border=\"1\" class=\"dataframe\">\n",
       "  <thead>\n",
       "    <tr style=\"text-align: right;\">\n",
       "      <th></th>\n",
       "      <th>data sturcture</th>\n",
       "      <th>linear algebra</th>\n",
       "      <th>computer architecture</th>\n",
       "    </tr>\n",
       "  </thead>\n",
       "  <tbody>\n",
       "    <tr>\n",
       "      <th>ali</th>\n",
       "      <td>3.1 cgpa</td>\n",
       "      <td>3.2 cgpa</td>\n",
       "      <td>3.1 cgpa</td>\n",
       "    </tr>\n",
       "    <tr>\n",
       "      <th>amir</th>\n",
       "      <td>3.2 cgpa</td>\n",
       "      <td>3.3 cgpa</td>\n",
       "      <td>3.0 cgpa</td>\n",
       "    </tr>\n",
       "    <tr>\n",
       "      <th>kamran</th>\n",
       "      <td>3.12 cgpa</td>\n",
       "      <td>3.3 cgpa</td>\n",
       "      <td>3.0 cgpa</td>\n",
       "    </tr>\n",
       "  </tbody>\n",
       "</table>\n",
       "</div>"
      ],
      "text/plain": [
       "       data sturcture linear algebra computer architecture\n",
       "ali          3.1 cgpa       3.2 cgpa              3.1 cgpa\n",
       "amir         3.2 cgpa       3.3 cgpa              3.0 cgpa\n",
       "kamran      3.12 cgpa       3.3 cgpa              3.0 cgpa"
      ]
     },
     "execution_count": 11,
     "metadata": {},
     "output_type": "execute_result"
    }
   ],
   "source": [
    "import pandas as pd\n",
    "  \n",
    "# Intitialise data of lists \n",
    "data = [{'data sturcture': \"3.1 cgpa\", 'linear algebra':\"3.2 cgpa\" , 'computer architecture':\"3.1 cgpa\"}, \n",
    "        {'data sturcture': \"3.2 cgpa\", 'linear algebra':\"3.3 cgpa\" , 'computer architecture':\"3.0 cgpa\"},\n",
    "       {'data sturcture': \"3.12 cgpa\", 'linear algebra':\"3.3 cgpa\" , 'computer architecture':\"3.0 cgpa\"}]\n",
    "  \n",
    "# Creates padas DataFrame by passing \n",
    "# Lists of dictionaries and row index.\n",
    "df = pd.DataFrame(data, index =['ali', 'amir','kamran'])\n",
    "  \n",
    "# Print the data\n",
    "df"
   ]
  },
  {
   "cell_type": "markdown",
   "metadata": {},
   "source": [
    "# 3. Write a python code to read an excel spreadsheet and only print first two columns using pandasdata frame."
   ]
  },
  {
   "cell_type": "code",
   "execution_count": null,
   "metadata": {},
   "outputs": [],
   "source": []
  },
  {
   "cell_type": "markdown",
   "metadata": {},
   "source": [
    "# 4. Write a python code to skip the first two rows of excel spreadsheet and print the output using pandas data frame."
   ]
  },
  {
   "cell_type": "code",
   "execution_count": null,
   "metadata": {},
   "outputs": [],
   "source": []
  }
 ],
 "metadata": {
  "kernelspec": {
   "display_name": "Python 3",
   "language": "python",
   "name": "python3"
  },
  "language_info": {
   "codemirror_mode": {
    "name": "ipython",
    "version": 3
   },
   "file_extension": ".py",
   "mimetype": "text/x-python",
   "name": "python",
   "nbconvert_exporter": "python",
   "pygments_lexer": "ipython3",
   "version": "3.8.5"
  }
 },
 "nbformat": 4,
 "nbformat_minor": 4
}
