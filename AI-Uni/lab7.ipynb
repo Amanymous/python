{
 "cells": [
  {
   "cell_type": "markdown",
   "metadata": {},
   "source": [
    "# 1. Run the given code of Genetic Algorithm (Coin Toss Problem) and show the output."
   ]
  },
  {
   "cell_type": "code",
   "execution_count": 1,
   "metadata": {},
   "outputs": [
    {
     "name": "stdout",
     "output_type": "stream",
     "text": [
      "S= [[0, 0, 1, 1, 1, 1, 1, 1, 1, 1], [0, 0, 1, 1, 1, 1, 1, 1, 1, 1], [0, 1, 1, 0, 1, 1, 0, 1, 1, 1], [0, 1, 0, 1, 1, 1, 0, 0, 1, 1], [0, 0, 1, 0, 1, 1, 1, 1, 1, 1], [0, 0, 1, 0, 1, 1, 0, 1, 1, 1]]\n"
     ]
    }
   ],
   "source": [
    "S=[[0,0,1,1,1,1,1,1,1,1],[0,0,1,1,1,1,1,1,1,1],[0,1,1,0,1,1,0,1,1,1],[0,1,0,1,1,1,0,0,1,1],[0,0,1,0,1,1,\n",
    "1,1,1,1],[0,0,1,0,1,1,0,1,1,1]]\n",
    "print(\"S=\",S)"
   ]
  },
  {
   "cell_type": "code",
   "execution_count": 3,
   "metadata": {},
   "outputs": [
    {
     "name": "stdout",
     "output_type": "stream",
     "text": [
      "Fitness\n",
      "[8]\n",
      "8\n"
     ]
    }
   ],
   "source": [
    "def calfitness(S):\n",
    "    \n",
    "    fit=[]\n",
    "    total=0\n",
    "    print(\"Fitness\")\n",
    "    for i in S:        \n",
    "        fit.append(i.count(1))\n",
    "        total+=i.count(1)\n",
    "        print(fit)\n",
    "        print(total)\n",
    "        return fit;\n",
    "fit=calfitness(S)"
   ]
  },
  {
   "cell_type": "code",
   "execution_count": 6,
   "metadata": {},
   "outputs": [
    {
     "name": "stdout",
     "output_type": "stream",
     "text": [
      "Arranging in Descending order\n"
     ]
    }
   ],
   "source": [
    "print(\"Arranging in Descending order\")\n",
    "desc=S\n",
    "for i in range(len(desc)):    \n",
    "    j=i + 1\n",
    "    for j in range(len(desc)):        \n",
    "        if desc[i].count(1)>desc[j].count(1):            \n",
    "            desc[j],desc[i]=desc[i],desc[j]"
   ]
  },
  {
   "cell_type": "code",
   "execution_count": 7,
   "metadata": {},
   "outputs": [
    {
     "name": "stdout",
     "output_type": "stream",
     "text": [
      "s = [[0, 0, 1, 1, 1, 1, 1, 1, 1, 1], [0, 0, 1, 1, 1, 1, 1, 1, 1, 1], [0, 1, 1, 0, 1, 1, 0, 1, 1, 1], [0, 0, 1, 0, 1, 1, 1, 1, 1, 1], [0, 1, 0, 1, 1, 1, 0, 0, 1, 1], [0, 0, 1, 0, 1, 1, 0, 1, 1, 1]]\n",
      "Cross over after 2 points\n",
      "s1 and s4\n"
     ]
    }
   ],
   "source": [
    "print(\"s =\" , desc)\n",
    "print(\"Cross over after 2 points\")\n",
    "for i in range(3):\n",
    "    desc[0][i],desc[3][i]=desc[3][i],desc[0][i]\n",
    "    desc[4][i],desc[5][i]=desc[5][i],desc[4][i]\n",
    "    desc[0],desc[3]=desc[3],desc[0]\n",
    "    desc[4],desc[5]=desc[5],desc[4]\n",
    "print(\"s1 and s4\")"
   ]
  },
  {
   "cell_type": "code",
   "execution_count": 8,
   "metadata": {},
   "outputs": [
    {
     "name": "stdout",
     "output_type": "stream",
     "text": [
      "s1= [0, 0, 1, 0, 1, 1, 1, 1, 1, 1] s4= [0, 0, 1, 1, 1, 1, 1, 1, 1, 1]\n",
      "s5= [0, 1, 0, 0, 1, 1, 0, 1, 1, 1] s6= [0, 0, 1, 1, 1, 1, 0, 0, 1, 1]\n",
      "s= [[0, 0, 1, 0, 1, 1, 1, 1, 1, 1], [0, 0, 1, 1, 1, 1, 1, 1, 1, 1], [0, 1, 1, 0, 1, 1, 0, 1, 1, 1], [0, 0, 1, 1, 1, 1, 1, 1, 1, 1], [0, 1, 0, 0, 1, 1, 0, 1, 1, 1], [0, 0, 1, 1, 1, 1, 0, 0, 1, 1]]\n",
      "Mutation\n",
      "s= [[1, 1, 1, 0, 1, 1, 1, 1, 1, 1], [1, 1, 1, 1, 1, 1, 1, 1, 1, 1], [1, 0, 1, 0, 1, 1, 0, 1, 1, 1], [1, 1, 1, 1, 1, 1, 1, 1, 1, 1], [1, 0, 0, 0, 1, 1, 0, 1, 1, 1], [1, 1, 1, 1, 1, 1, 0, 0, 1, 1]]\n",
      "Fitness\n",
      "[9]\n",
      "9\n",
      "Fitness is greater after applying Genetic Algorithm\n"
     ]
    }
   ],
   "source": [
    "print(\"s1=\", desc[0], \"s4=\", desc[3])\n",
    "print(\"s5=\", desc[4], \"s6=\", desc[5])\n",
    "print(\"s=\", desc)\n",
    "print(\"Mutation\")\n",
    "for i in range(6):\n",
    "    for j in range(2):\n",
    "        if(desc[i][j]==0):            \n",
    "            desc[i][j]=1\n",
    "        else:            \n",
    "            desc[i][j]=0\n",
    "print(\"s=\",desc)\n",
    "fit2=calfitness(desc)\n",
    "if fit<fit2:\n",
    "    print(\"Fitness is greater after applying Genetic Algorithm\")\n",
    "else:\n",
    "    print(\"Fitness is greater before applying Genetic Algorithm\")"
   ]
  },
  {
   "cell_type": "markdown",
   "metadata": {},
   "source": [
    "# 2. In given code there are crossover function implemented between S1, S4 and S5, S6 after 3rd point. You can perform crossover between S2 and S3 after 4th point."
   ]
  },
  {
   "cell_type": "code",
   "execution_count": 9,
   "metadata": {},
   "outputs": [
    {
     "name": "stdout",
     "output_type": "stream",
     "text": [
      "S= [[0, 0, 1, 1, 1, 1, 1, 1, 1, 1], [0, 0, 1, 1, 1, 1, 1, 1, 1, 1], [0, 1, 1, 0, 1, 1, 0, 1, 1, 1], [0, 1, 0, 1, 1, 1, 0, 0, 1, 1], [0, 0, 1, 0, 1, 1, 1, 1, 1, 1], [0, 0, 1, 0, 1, 1, 0, 1, 1, 1]]\n"
     ]
    }
   ],
   "source": [
    "S=[[0,0,1,1,1,1,1,1,1,1],[0,0,1,1,1,1,1,1,1,1],[0,1,1,0,1,1,0,1,1,1],[0,1,0,1,1,1,0,0,1,1],[0,0,1,0,1,1,\n",
    "1,1,1,1],[0,0,1,0,1,1,0,1,1,1]]\n",
    "print(\"S=\",S)"
   ]
  },
  {
   "cell_type": "code",
   "execution_count": 10,
   "metadata": {},
   "outputs": [
    {
     "name": "stdout",
     "output_type": "stream",
     "text": [
      "Fitness\n",
      "[8]\n",
      "8\n"
     ]
    }
   ],
   "source": [
    "def calfitness(S):\n",
    "    \n",
    "    fit=[]\n",
    "    total=0\n",
    "    print(\"Fitness\")\n",
    "    for i in S:        \n",
    "        fit.append(i.count(1))\n",
    "        total+=i.count(1)\n",
    "        print(fit)\n",
    "        print(total)\n",
    "        return fit;\n",
    "fit=calfitness(S)"
   ]
  },
  {
   "cell_type": "code",
   "execution_count": 11,
   "metadata": {},
   "outputs": [
    {
     "name": "stdout",
     "output_type": "stream",
     "text": [
      "Arranging in Descending order\n"
     ]
    }
   ],
   "source": [
    "print(\"Arranging in Descending order\")\n",
    "desc=S\n",
    "for i in range(len(desc)):    \n",
    "    j=i + 1\n",
    "    for j in range(len(desc)):        \n",
    "        if desc[i].count(1)>desc[j].count(1):            \n",
    "            desc[j],desc[i]=desc[i],desc[j]"
   ]
  },
  {
   "cell_type": "code",
   "execution_count": 12,
   "metadata": {},
   "outputs": [
    {
     "name": "stdout",
     "output_type": "stream",
     "text": [
      "s = [[0, 0, 1, 1, 1, 1, 1, 1, 1, 1], [0, 0, 1, 1, 1, 1, 1, 1, 1, 1], [0, 1, 1, 0, 1, 1, 0, 1, 1, 1], [0, 0, 1, 0, 1, 1, 1, 1, 1, 1], [0, 1, 0, 1, 1, 1, 0, 0, 1, 1], [0, 0, 1, 0, 1, 1, 0, 1, 1, 1]]\n",
      "Cross over after 3 points\n",
      "s2 and s3\n"
     ]
    }
   ],
   "source": [
    "print(\"s =\" , desc)\n",
    "print(\"Cross over after 3 points\")\n",
    "for i in range(3):\n",
    "    desc[2][i],desc[4][i]=desc[4][i],desc[2][i]\n",
    "    desc[3][i],desc[4][i]=desc[4][i],desc[3][i]\n",
    "    desc[2],desc[4]=desc[2],desc[4]\n",
    "    desc[3],desc[4]=desc[3],desc[4]\n",
    "print(\"s2 and s3\")"
   ]
  },
  {
   "cell_type": "code",
   "execution_count": 13,
   "metadata": {},
   "outputs": [
    {
     "name": "stdout",
     "output_type": "stream",
     "text": [
      "s2= [0, 0, 1, 1, 1, 1, 1, 1, 1, 1] s3= [0, 1, 0, 0, 1, 1, 0, 1, 1, 1]\n",
      "s= [[0, 0, 1, 1, 1, 1, 1, 1, 1, 1], [0, 0, 1, 1, 1, 1, 1, 1, 1, 1], [0, 1, 0, 0, 1, 1, 0, 1, 1, 1], [0, 1, 1, 0, 1, 1, 1, 1, 1, 1], [0, 0, 1, 1, 1, 1, 0, 0, 1, 1], [0, 0, 1, 0, 1, 1, 0, 1, 1, 1]]\n",
      "Mutation\n",
      "s= [[1, 1, 1, 1, 1, 1, 1, 1, 1, 1], [1, 1, 1, 1, 1, 1, 1, 1, 1, 1], [1, 0, 0, 0, 1, 1, 0, 1, 1, 1], [1, 0, 1, 0, 1, 1, 1, 1, 1, 1], [1, 1, 1, 1, 1, 1, 0, 0, 1, 1], [1, 1, 1, 0, 1, 1, 0, 1, 1, 1]]\n",
      "Fitness\n",
      "[10]\n",
      "10\n",
      "Fitness is greater after applying Genetic Algorithm\n"
     ]
    }
   ],
   "source": [
    "print(\"s2=\", desc[1], \"s3=\", desc[2])\n",
    "print(\"s=\", desc)\n",
    "print(\"Mutation\")\n",
    "for i in range(6):\n",
    "    for j in range(2):\n",
    "        if(desc[i][j]==0):            \n",
    "            desc[i][j]=1\n",
    "        else:            \n",
    "            desc[i][j]=0\n",
    "print(\"s=\",desc)\n",
    "fit2=calfitness(desc)\n",
    "if fit<fit2:\n",
    "    print(\"Fitness is greater after applying Genetic Algorithm\")\n",
    "else:\n",
    "    print(\"Fitness is greater before applying Genetic Algorithm\")"
   ]
  },
  {
   "cell_type": "markdown",
   "metadata": {},
   "source": [
    "# 3. In given code the values of chromosomes are hardcoded, you may take input values ofchromosomes at run time. "
   ]
  },
  {
   "cell_type": "code",
   "execution_count": 2,
   "metadata": {},
   "outputs": [
    {
     "name": "stdout",
     "output_type": "stream",
     "text": [
      "Enter s1: 0,0,1,1,1,1,1,1,1,1\n",
      "Enter s2: 0,0,1,1,1,1,1,1,1,1\n",
      "Enter s3: 0,1,1,0,1,1,0,1,1,1\n",
      "Enter s4: 0,1,0,1,1,1,0,0,1,1\n",
      "Enter s5: 0,0,1,0,1,1, 1,1,1,1\n",
      "Enter s6: 0,0,1,0,1,1,0,1,1,1\n"
     ]
    }
   ],
   "source": [
    "s1 = list(map(int, input(\"Enter s1: \").split(\",\")))\n",
    "s2 = list(map(int, input(\"Enter s2: \").split(\",\")))\n",
    "s3 = list(map(int, input(\"Enter s3: \").split(\",\")))\n",
    "s4 = list(map(int, input(\"Enter s4: \").split(\",\")))\n",
    "s5 = list(map(int, input(\"Enter s5: \").split(\",\")))\n",
    "s6 = list(map(int, input(\"Enter s6: \").split(\",\")))"
   ]
  },
  {
   "cell_type": "code",
   "execution_count": 15,
   "metadata": {},
   "outputs": [
    {
     "name": "stdout",
     "output_type": "stream",
     "text": [
      "s1: [0, 0, 1, 1, 1, 1, 1, 1, 1, 1]\n",
      "s2: [0, 0, 1, 1, 1, 1, 1, 1, 1, 1]\n",
      "s3: [0, 1, 1, 0, 1, 1, 0, 1, 1, 1]\n",
      "s4: [0, 1, 0, 1, 1, 1, 0, 0, 1, 1]\n",
      "s5: [0, 0, 1, 0, 1, 1, 1, 1, 1, 1]\n",
      "s6: [0, 0, 1, 0, 1, 1, 0, 1, 1, 1]\n"
     ]
    }
   ],
   "source": [
    "print(\"s1:\",s1)\n",
    "print(\"s2:\",s2)\n",
    "print(\"s3:\",s3)\n",
    "print(\"s4:\",s4)\n",
    "print(\"s5:\",s5)\n",
    "print(\"s6:\",s6)\n"
   ]
  },
  {
   "cell_type": "code",
   "execution_count": 20,
   "metadata": {},
   "outputs": [],
   "source": [
    "s=[s1,s2,s3,s4,s5,s6]"
   ]
  },
  {
   "cell_type": "code",
   "execution_count": 21,
   "metadata": {},
   "outputs": [
    {
     "name": "stdout",
     "output_type": "stream",
     "text": [
      "[[0, 0, 1, 1, 1, 1, 1, 1, 1, 1], [0, 0, 1, 1, 1, 1, 1, 1, 1, 1], [0, 1, 1, 0, 1, 1, 0, 1, 1, 1], [0, 1, 0, 1, 1, 1, 0, 0, 1, 1], [0, 0, 1, 0, 1, 1, 1, 1, 1, 1], [0, 0, 1, 0, 1, 1, 0, 1, 1, 1]]\n"
     ]
    }
   ],
   "source": [
    "print(s)"
   ]
  },
  {
   "cell_type": "code",
   "execution_count": null,
   "metadata": {},
   "outputs": [],
   "source": []
  }
 ],
 "metadata": {
  "kernelspec": {
   "display_name": "Python 3",
   "language": "python",
   "name": "python3"
  }
 },
 "nbformat": 4,
 "nbformat_minor": 4
}
