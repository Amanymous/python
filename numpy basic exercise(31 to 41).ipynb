{
 "cells": [
  {
   "cell_type": "markdown",
   "metadata": {},
   "source": [
    "# 31. Write a NumPy program to create a 3x3x3 array filled with arbitrary values."
   ]
  },
  {
   "cell_type": "code",
   "execution_count": 1,
   "metadata": {},
   "outputs": [
    {
     "data": {
      "text/plain": [
       "array([[[0.68790769, 0.37484226, 0.72402952],\n",
       "        [0.740042  , 0.72126699, 0.68086783],\n",
       "        [0.1835103 , 0.95336911, 0.30571006]],\n",
       "\n",
       "       [[0.78274468, 0.579836  , 0.01069059],\n",
       "        [0.16182461, 0.71200806, 0.86071619],\n",
       "        [0.38524289, 0.98913558, 0.62576066]],\n",
       "\n",
       "       [[0.33192568, 0.84514417, 0.33122586],\n",
       "        [0.60690963, 0.8930125 , 0.536685  ],\n",
       "        [0.43987046, 0.81128856, 0.50032043]]])"
      ]
     },
     "execution_count": 1,
     "metadata": {},
     "output_type": "execute_result"
    }
   ],
   "source": [
    "import numpy as np\n",
    "a=np.random.random((3,3,3))\n",
    "a"
   ]
  },
  {
   "cell_type": "markdown",
   "metadata": {},
   "source": [
    "# 32. Write a NumPy program to compute sum of all elements, sum of each column and sum of each row of an given array. "
   ]
  },
  {
   "cell_type": "code",
   "execution_count": 2,
   "metadata": {},
   "outputs": [
    {
     "name": "stdout",
     "output_type": "stream",
     "text": [
      "[4 6]\n",
      "[3 7]\n"
     ]
    }
   ],
   "source": [
    "a=np.array([[1,2],[3,4]])\n",
    "print(np.sum(a,axis=0))\n",
    "print(np.sum(a,axis=1))"
   ]
  },
  {
   "cell_type": "markdown",
   "metadata": {},
   "source": [
    "# 33. Write a NumPy program to compute the inner product of two given vectors."
   ]
  },
  {
   "cell_type": "code",
   "execution_count": 3,
   "metadata": {},
   "outputs": [
    {
     "name": "stdout",
     "output_type": "stream",
     "text": [
      "11\n"
     ]
    }
   ],
   "source": [
    "a=np.array([1,2])\n",
    "b=np.array([3,4])\n",
    "print(np.dot(a,b))"
   ]
  },
  {
   "cell_type": "markdown",
   "metadata": {},
   "source": [
    "# 34. Write a NumPy program to add a vector to each row of a given matrix."
   ]
  },
  {
   "cell_type": "code",
   "execution_count": 4,
   "metadata": {},
   "outputs": [
    {
     "data": {
      "text/plain": [
       "array([[ 2,  3,  3],\n",
       "       [ 5,  6,  6],\n",
       "       [ 8,  9,  9],\n",
       "       [11, 12, 12]])"
      ]
     },
     "execution_count": 4,
     "metadata": {},
     "output_type": "execute_result"
    }
   ],
   "source": [
    "a = np.array([[1,2,3], [4,5,6], [7,8,9], [10, 11, 12]])\n",
    "b = np.array([1, 1, 0])\n",
    "result = np.empty_like(a) \n",
    "for i in range(4):\n",
    "  result[i, :] = a[i, :] + b\n",
    "result"
   ]
  },
  {
   "cell_type": "markdown",
   "metadata": {},
   "source": [
    "# 35. Write a NumPy program to save a given array to a binary file ."
   ]
  },
  {
   "cell_type": "code",
   "execution_count": 5,
   "metadata": {},
   "outputs": [
    {
     "name": "stdout",
     "output_type": "stream",
     "text": [
      "[4 6]\n",
      "[3 7]\n",
      "Check if 'my numpy.npy' exists or not?\n",
      "True\n"
     ]
    }
   ],
   "source": [
    "import os\n",
    "a=np.array([[1,2],[3,4]])\n",
    "print(np.sum(a,axis=0))\n",
    "print(np.sum(a,axis=1))\n",
    "np.save('my numpy',a)\n",
    "print(\"Check if 'my numpy.npy' exists or not?\")\n",
    "if os.path.exists('my numpy.npy'):\n",
    "    b=np.load('my numpy.npy')\n",
    "    print(np.array_equal(a,b))"
   ]
  },
  {
   "cell_type": "markdown",
   "metadata": {},
   "source": [
    "# 36. Write a NumPy program to save two given arrays into a single file in compressed format (.npz format) and load it. "
   ]
  },
  {
   "cell_type": "code",
   "execution_count": 6,
   "metadata": {},
   "outputs": [
    {
     "name": "stdout",
     "output_type": "stream",
     "text": [
      "[[1 2]\n",
      " [3 4]] [[1 2]\n",
      " [3 4]]\n"
     ]
    }
   ],
   "source": [
    "np.savez('array numpy.npz',ar1=a,ar2=b)\n",
    "ar=np.load('array numpy.npz')\n",
    "print(ar['ar1'],ar['ar2'])\n",
    "np.savez_compressed('array compressed.npz',ar1=a,ar2=b)"
   ]
  },
  {
   "cell_type": "markdown",
   "metadata": {},
   "source": [
    "# 37. Write a NumPy program to save a given array to a text file and load it."
   ]
  },
  {
   "cell_type": "code",
   "execution_count": 12,
   "metadata": {},
   "outputs": [
    {
     "name": "stdout",
     "output_type": "stream",
     "text": [
      "Original array:\n",
      "[[ 0  1  2  3]\n",
      " [ 4  5  6  7]\n",
      " [ 8  9 10 11]\n",
      " [12 13 14 15]]\n",
      "After loading, content of the text file:\n",
      "[[ 0.  1.  2.  3.]\n",
      " [ 4.  5.  6.  7.]\n",
      " [ 8.  9. 10. 11.]\n",
      " [12. 13. 14. 15.]]\n"
     ]
    }
   ],
   "source": [
    "import os\n",
    "a = np.arange(16).reshape(4,4)\n",
    "print(\"Original array:\")\n",
    "print(a)\n",
    "header= 'col1 col2 col3 col4'\n",
    "np.savetxt('temp.txt', a, fmt=\"%d\",header=header) \n",
    "print(\"After loading, content of the text file:\")\n",
    "result = np.loadtxt('temp.txt')\n",
    "print(result)"
   ]
  },
  {
   "cell_type": "code",
   "execution_count": 13,
   "metadata": {},
   "outputs": [
    {
     "name": "stdout",
     "output_type": "stream",
     "text": [
      "Original array:\n",
      "[[ 0  1  2  3]\n",
      " [ 4  5  6  7]\n",
      " [ 8  9 10 11]\n",
      " [12 13 14 15]]\n",
      "After loading, content of the text file:\n",
      "[[ 0.  1.  2.  3.]\n",
      " [ 4.  5.  6.  7.]\n",
      " [ 8.  9. 10. 11.]\n",
      " [12. 13. 14. 15.]]\n"
     ]
    }
   ],
   "source": [
    "import os\n",
    "a = np.arange(16).reshape(4,4)\n",
    "print(\"Original array:\")\n",
    "print(a)\n",
    "header= 'col1 col2 col3 col4'\n",
    "np.savetxt('temp.txt', a,header=header) \n",
    "print(\"After loading, content of the text file:\")\n",
    "result = np.loadtxt('temp.txt')\n",
    "print(result)"
   ]
  },
  {
   "cell_type": "markdown",
   "metadata": {},
   "source": [
    "# 38. Write a NumPy program to convert a given array into bytes, and load it as array."
   ]
  },
  {
   "cell_type": "code",
   "execution_count": null,
   "metadata": {},
   "outputs": [],
   "source": [
    "import os\n",
    "a = np.array([1, 2, 3, 4, 5, 6])\n",
    "print(\"Original array:\")\n",
    "print(a)\n",
    "a_bytes = a.tostring()\n",
    "a2 = np.fromstring(a_bytes, dtype=a.dtype)\n",
    "print(\"After loading, content of the text file:\")\n",
    "print(a2)\n",
    "print(np.array_equal(a, a2))"
   ]
  },
  {
   "cell_type": "markdown",
   "metadata": {},
   "source": [
    "# 39. Write a NumPy program to convert a given array into a list and then convert it into a list again. "
   ]
  },
  {
   "cell_type": "code",
   "execution_count": 17,
   "metadata": {},
   "outputs": [
    {
     "name": "stdout",
     "output_type": "stream",
     "text": [
      "[[ True  True]\n",
      " [ True  True]]\n"
     ]
    }
   ],
   "source": [
    "a = np.array([[1, 2], [3, 4]])\n",
    "a2 = a.tolist()\n",
    "print(a == a2)"
   ]
  },
  {
   "cell_type": "markdown",
   "metadata": {},
   "source": [
    "# 40. Write a NumPy program to compute the x and y coordinates for points on a sine curve and plot the points using matplotlib."
   ]
  },
  {
   "cell_type": "code",
   "execution_count": 33,
   "metadata": {},
   "outputs": [
    {
     "data": {
      "image/png": "[encoded data removed]",
      "text/plain": [
       "<Figure size 432x288 with 1 Axes>"
      ]
     },
     "metadata": {},
     "output_type": "display_data"
    }
   ],
   "source": [
    "import matplotlib.pyplot as plt\n",
    "x= np.arange(10*np.pi)\n",
    "y= np.sin(x)\n",
    "plt.title('x and y curve')\n",
    "plt.plot(x,y)\n",
    "plt.grid()\n",
    "plt.show()\n",
    "plt.close()"
   ]
  },
  {
   "cell_type": "code",
   "execution_count": 36,
   "metadata": {},
   "outputs": [
    {
     "data": {
      "image/png": "[encoded data removed]",
      "text/plain": [
       "<Figure size 432x288 with 1 Axes>"
      ]
     },
     "metadata": {},
     "output_type": "display_data"
    }
   ],
   "source": [
    "import matplotlib.pyplot as plt\n",
    "x= np.arange(10*np.pi)\n",
    "y= np.sin(x)\n",
    "plt.title('x and y curve')\n",
    "plt.plot(x,y,'x')\n",
    "plt.grid()\n",
    "plt.show()\n",
    "plt.close()"
   ]
  },
  {
   "cell_type": "markdown",
   "metadata": {},
   "source": [
    "# 41. Write a NumPy program to convert numpy dtypes to native python types."
   ]
  },
  {
   "cell_type": "code",
   "execution_count": 49,
   "metadata": {},
   "outputs": [
    {
     "name": "stdout",
     "output_type": "stream",
     "text": [
      "numpy.float32 to python float\n",
      "<class 'numpy.float32'>\n",
      "<class 'float'>\n"
     ]
    }
   ],
   "source": [
    "print(\"numpy.float32 to python float\")\n",
    "a = np.float32(100)\n",
    "print(type(a))\n",
    "pyva= a.item()\n",
    "print(type(pyva))"
   ]
  },
  {
   "cell_type": "code",
   "execution_count": null,
   "metadata": {},
   "outputs": [],
   "source": []
  }
 ],
 "metadata": {
  "kernelspec": {
   "display_name": "Python 3",
   "language": "python",
   "name": "python3"
  },
  "language_info": {
   "codemirror_mode": {
    "name": "ipython",
    "version": 3
   },
   "file_extension": ".py",
   "mimetype": "text/x-python",
   "name": "python",
   "nbconvert_exporter": "python",
   "pygments_lexer": "ipython3",
   "version": "3.6.5"
  }
 },
 "nbformat": 4,
 "nbformat_minor": 2
}
