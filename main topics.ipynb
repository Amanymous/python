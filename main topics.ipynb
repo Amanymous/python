{
 "cells": [
  {
   "cell_type": "code",
   "execution_count": 1,
   "metadata": {},
   "outputs": [
    {
     "name": "stdout",
     "output_type": "stream",
     "text": [
      "10\n"
     ]
    }
   ],
   "source": [
    "#args\n",
    "def total(*args):\n",
    "    total=0\n",
    "    for num in args:\n",
    "        total+=num\n",
    "    return total\n",
    "print(total(1,2,3,4))"
   ]
  },
  {
   "cell_type": "code",
   "execution_count": 3,
   "metadata": {},
   "outputs": [
    {
     "name": "stdout",
     "output_type": "stream",
     "text": [
      "(1, 2, 3, 4)\n",
      "24\n"
     ]
    }
   ],
   "source": [
    "#multiplication with args \n",
    "def mult(*args):\n",
    "    multiply=1\n",
    "    print(args)\n",
    "    for i in args:\n",
    "        multiply*=i\n",
    "    return multiply\n",
    "nums=[1,2,3,4]\n",
    "print(mult(*nums))\n",
    "#is ma *nums is liye likha ha kun ky wo list ko unpack karky multiply kary ga or tuple bil use karin gy to aus ma \n",
    "#bi * likhain gy variable ky sath"
   ]
  },
  {
   "cell_type": "code",
   "execution_count": 16,
   "metadata": {},
   "outputs": [
    {
     "name": "stdout",
     "output_type": "stream",
     "text": [
      "[1, 8, 27]\n"
     ]
    }
   ],
   "source": [
    "def power(nums,*args):\n",
    "    if args:\n",
    "        return [i**nums for i in args]\n",
    "    else:\n",
    "        return 'no value'\n",
    "nums=[1,2,3]\n",
    "print(power(3,*nums))#is (2 power ko indicate karta ha)"
   ]
  },
  {
   "cell_type": "code",
   "execution_count": 17,
   "metadata": {},
   "outputs": [],
   "source": [
    "#kwargs"
   ]
  },
  {
   "cell_type": "code",
   "execution_count": 20,
   "metadata": {},
   "outputs": [
    {
     "name": "stdout",
     "output_type": "stream",
     "text": [
      "aman 20\n"
     ]
    }
   ],
   "source": [
    "#default parametera\n",
    "def fun(name='abc',age=19):\n",
    "        print(name,age)\n",
    "fun('aman',20)"
   ]
  },
  {
   "cell_type": "code",
   "execution_count": 21,
   "metadata": {},
   "outputs": [
    {
     "name": "stdout",
     "output_type": "stream",
     "text": [
      "abc 19\n"
     ]
    }
   ],
   "source": [
    "#default parametera\n",
    "def fun(name='abc',age=19):\n",
    "        print(name,age)\n",
    "fun()"
   ]
  },
  {
   "cell_type": "code",
   "execution_count": 22,
   "metadata": {},
   "outputs": [],
   "source": [
    "#padk\n",
    "#parameters\n",
    "#*args\n",
    "#default parameters\n",
    "#**kwargs"
   ]
  },
  {
   "cell_type": "code",
   "execution_count": 30,
   "metadata": {},
   "outputs": [
    {
     "name": "stdout",
     "output_type": "stream",
     "text": [
      "aman\n",
      "(123,)\n",
      "abc\n",
      "{'a': 1, 'b': 2}\n"
     ]
    }
   ],
   "source": [
    "def func(name,*args,lname='abc',**kwargs):\n",
    "    print(name)\n",
    "    print(args)\n",
    "    print(lname)\n",
    "    print(kwargs)\n",
    "func('aman',123,a=1,b=2)"
   ]
  },
  {
   "cell_type": "code",
   "execution_count": 5,
   "metadata": {},
   "outputs": [
    {
     "ename": "NameError",
     "evalue": "name 'reverse_str' is not defined",
     "output_type": "error",
     "traceback": [
      "\u001b[1;31m---------------------------------------------------------------------------\u001b[0m",
      "\u001b[1;31mNameError\u001b[0m                                 Traceback (most recent call last)",
      "\u001b[1;32m<ipython-input-5-abbe53ed5b38>\u001b[0m in \u001b[0;36m<module>\u001b[1;34m()\u001b[0m\n\u001b[0;32m      5\u001b[0m         \u001b[1;32mreturn\u001b[0m \u001b[1;33m[\u001b[0m\u001b[0mname\u001b[0m\u001b[1;33m.\u001b[0m\u001b[0mtitle\u001b[0m\u001b[1;33m(\u001b[0m\u001b[1;33m)\u001b[0m \u001b[1;32mfor\u001b[0m \u001b[0mname\u001b[0m \u001b[1;32min\u001b[0m \u001b[0ml\u001b[0m\u001b[1;33m]\u001b[0m\u001b[1;33m\u001b[0m\u001b[0m\n\u001b[0;32m      6\u001b[0m \u001b[0mname\u001b[0m\u001b[1;33m=\u001b[0m\u001b[1;33m[\u001b[0m\u001b[1;34m'aman'\u001b[0m\u001b[1;33m,\u001b[0m\u001b[1;34m'mirza'\u001b[0m\u001b[1;33m]\u001b[0m\u001b[1;33m\u001b[0m\u001b[0m\n\u001b[1;32m----> 7\u001b[1;33m \u001b[0mprint\u001b[0m\u001b[1;33m(\u001b[0m\u001b[0mfunc\u001b[0m\u001b[1;33m(\u001b[0m\u001b[0mname\u001b[0m\u001b[1;33m,\u001b[0m\u001b[0mreverse_str\u001b[0m\u001b[1;33m)\u001b[0m\u001b[1;33m==\u001b[0m\u001b[1;32mTrue\u001b[0m\u001b[1;33m)\u001b[0m\u001b[1;33m\u001b[0m\u001b[0m\n\u001b[0m",
      "\u001b[1;31mNameError\u001b[0m: name 'reverse_str' is not defined"
     ]
    }
   ],
   "source": [
    "def func(l,**kwargs):\n",
    "    if kwargs.get(reverse_str)==True:\n",
    "        return [name[::-1].title() for name in l]\n",
    "    else:\n",
    "        return [name.title() for name in l]\n",
    "name=['aman','mirza']\n",
    "print(func(name,reverse_str)==True)"
   ]
  },
  {
   "cell_type": "code",
   "execution_count": 18,
   "metadata": {},
   "outputs": [
    {
     "name": "stdout",
     "output_type": "stream",
     "text": [
      "5\n"
     ]
    }
   ],
   "source": [
    "def add(*args):\n",
    "    return args\n",
    "add= lambda a,b:a+b\n",
    "print(add(2,3))"
   ]
  },
  {
   "cell_type": "code",
   "execution_count": 2,
   "metadata": {},
   "outputs": [
    {
     "name": "stdout",
     "output_type": "stream",
     "text": [
      "[1, 4, 9, 16]\n"
     ]
    }
   ],
   "source": [
    "#map function\n",
    "number=[1,2,3,4]\n",
    "def squares(a):\n",
    "    return a**2\n",
    "squares=list(map(squares,number))\n",
    "print(squares)"
   ]
  },
  {
   "cell_type": "code",
   "execution_count": 4,
   "metadata": {},
   "outputs": [
    {
     "name": "stdout",
     "output_type": "stream",
     "text": [
      "[1, 4, 9, 16]\n"
     ]
    }
   ],
   "source": [
    "number=[1,2,3,4]\n",
    "squares=list(map(lambda a:a**2,number))\n",
    "print(squares)"
   ]
  },
  {
   "cell_type": "code",
   "execution_count": 9,
   "metadata": {},
   "outputs": [
    {
     "name": "stdout",
     "output_type": "stream",
     "text": [
      "[1, 4, 9, 16]\n"
     ]
    }
   ],
   "source": [
    "#using list comprehension\n",
    "number=[1,2,3,4]\n",
    "squares=[i**2 for i in number]\n",
    "print(squares)"
   ]
  },
  {
   "cell_type": "code",
   "execution_count": 21,
   "metadata": {},
   "outputs": [
    {
     "name": "stdout",
     "output_type": "stream",
     "text": [
      "3\n",
      "5\n",
      "6\n"
     ]
    }
   ],
   "source": [
    "names=['abc','abcde','abcdef']\n",
    "length=map(len,names)\n",
    "for num in length:\n",
    "    print(num)"
   ]
  },
  {
   "cell_type": "code",
   "execution_count": 28,
   "metadata": {},
   "outputs": [
    {
     "name": "stdout",
     "output_type": "stream",
     "text": [
      "(2, 4, 6, 8, 10)\n"
     ]
    }
   ],
   "source": [
    "#filter\n",
    "def even(a):\n",
    "    return a%2==0\n",
    "numbers=[1,2,3,4,5,6,7,8,9,10]\n",
    "evens=tuple(filter(lambda a:a%2==0,numbers))\n",
    "print(evens)"
   ]
  },
  {
   "cell_type": "code",
   "execution_count": 31,
   "metadata": {},
   "outputs": [
    {
     "name": "stdout",
     "output_type": "stream",
     "text": [
      "2\n",
      "4\n",
      "6\n",
      "8\n",
      "10\n"
     ]
    }
   ],
   "source": [
    "def even(a):\n",
    "    return a%2==0\n",
    "numbers=[1,2,3,4,5,6,7,8,9,10]\n",
    "evens=filter(lambda a:a%2==0,numbers)\n",
    "for i in evens:\n",
    "    print(i)"
   ]
  },
  {
   "cell_type": "code",
   "execution_count": 34,
   "metadata": {},
   "outputs": [
    {
     "name": "stdout",
     "output_type": "stream",
     "text": [
      "2\n",
      "4\n",
      "6\n",
      "8\n",
      "10\n",
      "2\n",
      "4\n",
      "6\n",
      "8\n",
      "10\n"
     ]
    }
   ],
   "source": [
    "def even(a):\n",
    "    return a%2==0\n",
    "numbers=[1,2,3,4,5,6,7,8,9,10]\n",
    "evens=tuple(filter(lambda a:a%2==0,numbers))\n",
    "for i in evens:\n",
    "    print(i)\n",
    "for i in evens:\n",
    "    print(i)"
   ]
  },
  {
   "cell_type": "code",
   "execution_count": 5,
   "metadata": {},
   "outputs": [
    {
     "name": "stdout",
     "output_type": "stream",
     "text": [
      "[2, 4, 6, 8, 10]\n",
      "[2, 4, 6, 8, 10]\n"
     ]
    }
   ],
   "source": [
    "def even(a):\n",
    "    return a%2==0\n",
    "numbers=[1,2,3,4,5,6,7,8,9,10]\n",
    "evens=tuple(filter(lambda a:a%2==0,numbers))\n",
    "neweven=[i for i in numbers if i%2==0]\n",
    "print(list(evens))\n",
    "print(neweven)"
   ]
  },
  {
   "cell_type": "code",
   "execution_count": 17,
   "metadata": {},
   "outputs": [
    {
     "name": "stdout",
     "output_type": "stream",
     "text": [
      "aman mirza 19\n",
      "affan mirza 13\n"
     ]
    }
   ],
   "source": [
    "#classes object oriented programming\n",
    "class person:\n",
    "    def __init__(self,fname,lname,age):#jo cheez self ky sath () ma ho wo attributes hoti hain//or self khud ek object ha \n",
    "        #zarori nai ha self hi kuch or bi likhsakty hain lekin bether ha self likhain\n",
    "        self.fname=fname#or yahan hum ny object define kiya ha\n",
    "        self.lname=lname\n",
    "        self.age=age\n",
    "p1=person('aman','mirza',19)#or ye instance khelaty hain\n",
    "p2=person('affan','mirza',13)\n",
    "print(p1.fname,p1.lname,p1.age)\n",
    "print(p2.fname,p2.lname,p2.age)\n"
   ]
  },
  {
   "cell_type": "code",
   "execution_count": 18,
   "metadata": {},
   "outputs": [
    {
     "name": "stdout",
     "output_type": "stream",
     "text": [
      "hp probook 19999\n",
      "dell zbook 1333\n"
     ]
    }
   ],
   "source": [
    "class laptop:\n",
    "    def __init__(self,brand,model,price):#jo cheez self ky sath () ma ho wo attributes hoti hain//or self khud ek object ha \n",
    "        #zarori nai ha self hi kuch or bi likhsakty hain lekin bether ha self likhain\n",
    "        self.brand=brand#or yahan hum ny object define kiya ha\n",
    "        self.model=model\n",
    "        self.price=price\n",
    "l1=laptop('hp','probook',19999)#or ye instance khelaty hain\n",
    "l2=laptop('dell','zbook',1333)\n",
    "print(l1.brand,l1.model,l1.price)\n",
    "print(l2.brand,l2.model,l2.price)\n"
   ]
  },
  {
   "cell_type": "code",
   "execution_count": 1,
   "metadata": {},
   "outputs": [
    {
     "name": "stdout",
     "output_type": "stream",
     "text": [
      "True\n",
      "False\n"
     ]
    }
   ],
   "source": [
    "#jo words phely sy define hoty hain aun ko .() method kehty hain or baaz log fuction bi kehty hain lekin actual word method ha\n",
    "#more about instance\n",
    "class person:\n",
    "    def __init__(self,fname,lname,age):\n",
    "        self.fname=fname\n",
    "        self.lname=lname\n",
    "        self.age=age\n",
    "        self.fullname=fname+' '+lname+str(age)\n",
    "   # def fullname(self):\n",
    "        #return f'{self.fname} {self.lname}'\n",
    "    def aboveage(self):\n",
    "        return self.age>18\n",
    "p1=person('aman','mirza',19)\n",
    "p2=person('affan','mirza',13)\n",
    "#print(p1.fname,p1.lname,p1.age)\n",
    "#print(p2.fname,p2.lname,p2.age)\n",
    "#print((p2.fullname()))\n",
    "#print(p2.fullname)\n",
    "print(p1.aboveage())\n",
    "print(p2.aboveage())"
   ]
  },
  {
   "cell_type": "code",
   "execution_count": 18,
   "metadata": {},
   "outputs": [
    {
     "name": "stdout",
     "output_type": "stream",
     "text": [
      "[]\n"
     ]
    }
   ],
   "source": [
    "l=[1,2,3,4]\n",
    "l.clear()#ye method ha\n",
    "print(l)"
   ]
  },
  {
   "cell_type": "code",
   "execution_count": 19,
   "metadata": {},
   "outputs": [
    {
     "name": "stdout",
     "output_type": "stream",
     "text": [
      "[]\n"
     ]
    }
   ],
   "source": [
    "l=[1,2,3,4]\n",
    "list.clear(l)#ye method ha\n",
    "print(l)"
   ]
  },
  {
   "cell_type": "code",
   "execution_count": 20,
   "metadata": {},
   "outputs": [
    {
     "name": "stdout",
     "output_type": "stream",
     "text": [
      "[1, 2, 3, 4, 10]\n"
     ]
    }
   ],
   "source": [
    "l=[1,2,3,4]\n",
    "l.append(10)\n",
    "print(l)"
   ]
  },
  {
   "cell_type": "code",
   "execution_count": 4,
   "metadata": {},
   "outputs": [
    {
     "name": "stdout",
     "output_type": "stream",
     "text": [
      "[1, 2, 3, 4, 10]\n"
     ]
    }
   ],
   "source": [
    "l=[1,2,3,4]\n",
    "list.append(l,10)#ye method ha\n",
    "print(l)"
   ]
  },
  {
   "cell_type": "code",
   "execution_count": 1,
   "metadata": {},
   "outputs": [
    {
     "name": "stdout",
     "output_type": "stream",
     "text": [
      "1199.7\n"
     ]
    }
   ],
   "source": [
    "class laptop:\n",
    "    def __init__(self,brand,model,price):\n",
    "        self.brand=brand\n",
    "        self.model=model\n",
    "        self.price=price\n",
    "    def discountprice(self,num):\n",
    "        offprice=(num/100)*self.price\n",
    "        return self.price-offprice\n",
    "l1=laptop('hp','probook',19999)\n",
    "l2=laptop('dell','zbook',1333)\n",
    "#print(l1.brand,l1.model,l1.price)\n",
    "#print(l2.brand,l2.model,l2.price)\n",
    "print(l2.discountprice(10))"
   ]
  },
  {
   "cell_type": "code",
   "execution_count": 9,
   "metadata": {},
   "outputs": [
    {
     "name": "stdout",
     "output_type": "stream",
     "text": [
      "1199.7\n",
      "17999.1\n"
     ]
    }
   ],
   "source": [
    "class laptop:\n",
    "    discount=10\n",
    "    def __init__(self,brand,model,price):\n",
    "        self.brand=brand\n",
    "        self.model=model\n",
    "        self.price=price\n",
    "    def discountprice(self):\n",
    "        offprice=(laptop.discount/100)*self.price\n",
    "        return self.price-offprice\n",
    "l1=laptop('hp','probook',19999)\n",
    "l2=laptop('dell','zbook',1333)\n",
    "#print(l1.brand,l1.model,l1.price)\n",
    "#print(l2.brand,l2.model,l2.price)\n",
    "print(l2.discountprice())\n",
    "print(l1.discountprice())"
   ]
  },
  {
   "cell_type": "code",
   "execution_count": 12,
   "metadata": {},
   "outputs": [
    {
     "name": "stdout",
     "output_type": "stream",
     "text": [
      "1333.0\n",
      "19999.0\n",
      "{'brand': 'hp', 'model': 'probook', 'price': 19999}\n"
     ]
    }
   ],
   "source": [
    "#or if i want to cancel the discount offer\n",
    "class laptop:\n",
    "    discount=10\n",
    "    def __init__(self,brand,model,price):\n",
    "        self.brand=brand\n",
    "        self.model=model\n",
    "        self.price=price\n",
    "    def discountprice(self):\n",
    "        offprice=(laptop.discount/100)*self.price\n",
    "        return self.price-offprice\n",
    "    discount=0\n",
    "l1=laptop('hp','probook',19999)\n",
    "l2=laptop('dell','zbook',1333)\n",
    "#print(l1.brand,l1.model,l1.price)\n",
    "#print(l2.brand,l2.model,l2.price)\n",
    "print(l2.discountprice())\n",
    "print(l1.discountprice())\n",
    "print(l1.__dict__)"
   ]
  },
  {
   "cell_type": "code",
   "execution_count": 13,
   "metadata": {},
   "outputs": [
    {
     "name": "stdout",
     "output_type": "stream",
     "text": [
      "666.5\n",
      "{'brand': 'dell', 'model': 'zbook', 'price': 1333, 'discount': 50}\n"
     ]
    }
   ],
   "source": [
    "class laptop:\n",
    "    discount=10\n",
    "    def __init__(self,brand,model,price):\n",
    "        self.brand=brand\n",
    "        self.model=model\n",
    "        self.price=price\n",
    "    def discountprice(self):\n",
    "        offprice=(self.discount/100)*self.price#ager mijhe l2 ky liye discount karna ha to laptop ki jaga self likhna hoga\n",
    "        return self.price-offprice\n",
    "    discount=0\n",
    "l1=laptop('hp','probook',19999)\n",
    "l2=laptop('dell','zbook',1333)\n",
    "l2.discount=50\n",
    "#print(l2.discountprice())\n",
    "print(l2.discountprice())\n",
    "print(l2.__dict__)"
   ]
  },
  {
   "cell_type": "code",
   "execution_count": 2,
   "metadata": {},
   "outputs": [
    {
     "name": "stdout",
     "output_type": "stream",
     "text": [
      "25.12\n",
      "31.400000000000002\n"
     ]
    }
   ],
   "source": [
    "class Circle:\n",
    "    def __init__(self,radius,pi):\n",
    "        self.radius=radius\n",
    "        self.pi=pi\n",
    "    def cal_circumfarence(self):\n",
    "        return 2*self.pi*self.radius\n",
    "c=Circle(4,3.14)\n",
    "c1=Circle(5,3.14)\n",
    "print(c.cal_circumfarence())\n",
    "print(c1.cal_circumfarence())       "
   ]
  },
  {
   "cell_type": "code",
   "execution_count": 10,
   "metadata": {},
   "outputs": [
    {
     "name": "stdout",
     "output_type": "stream",
     "text": [
      "25.12\n",
      "31.400000000000002\n"
     ]
    }
   ],
   "source": [
    "class Circle:\n",
    "    pi=3.14\n",
    "    def __init__(self,radius):\n",
    "        self.radius=radius\n",
    "    def cal_circumfarence(self):\n",
    "        return 2*Circle.pi*self.radius\n",
    "c=Circle(4)\n",
    "c1=Circle(5)\n",
    "print(c.cal_circumfarence())\n",
    "print(c1.cal_circumfarence()) \n"
   ]
  },
  {
   "cell_type": "code",
   "execution_count": 6,
   "metadata": {},
   "outputs": [
    {
     "name": "stdout",
     "output_type": "stream",
     "text": [
      "3\n"
     ]
    }
   ],
   "source": [
    "#how to check the instance\n",
    "class Person:\n",
    "    count_instance=0\n",
    "    def __init__(self,fname,lname,age):\n",
    "        Person.count_instance+=1\n",
    "        self.fname=fname\n",
    "        self.lname=lname\n",
    "        self.age=age\n",
    "p1=Person('aman','mirza',19)#these are called instance p1,p1,p1 zarori nai kya\n",
    "p1=Person('aman','mirza',19)#p1 hi use karin koi variable bi use karsakty hain \n",
    "p1=Person('aman','mirza',19)\n",
    "print(Person.count_instance)"
   ]
  },
  {
   "cell_type": "code",
   "execution_count": 18,
   "metadata": {},
   "outputs": [
    {
     "name": "stdout",
     "output_type": "stream",
     "text": [
      "you have created 3instance of Person class\n",
      "True\n"
     ]
    }
   ],
   "source": [
    "#class method\n",
    "#d/f b/w class method and instance method\n",
    "class Person:\n",
    "    count_instance=0#class variable and and class instance\n",
    "    def __init__(self,fname,lname,age):\n",
    "        Person.count_instance+=1\n",
    "        self.fname=fname\n",
    "        self.lname=lname\n",
    "        self.age=age\n",
    "    @classmethod\n",
    "    def count_instances(cls):#cls means class @classmethod is a decorator\n",
    "        return f'you have created {cls.count_instance}instance of {cls.__name__} class'\n",
    "    def fullname(self):\n",
    "        return f\"{self.fname}{self.lname}\"\n",
    "    def above_age_18(self):\n",
    "        return self.age>18\n",
    "p1=Person('aman','mirza',19)#these are called instance p1,p1,p1 zarori nai kya\n",
    "p1=Person('aman','mirza',19)#p1 hi use karin koi variable bi use karsakty hain \n",
    "p1=Person('aman','mirza',19)\n",
    "print(Person.count_instances())\n",
    "print(p1.above_age_18())"
   ]
  },
  {
   "cell_type": "code",
   "execution_count": 12,
   "metadata": {},
   "outputs": [
    {
     "name": "stdout",
     "output_type": "stream",
     "text": [
      "aman mirza 19\n"
     ]
    }
   ],
   "source": [
    "class Person:\n",
    "    count_instance=0#class variable and and class instance\n",
    "    def __init__(self,fname,lname,age):\n",
    "        Person.count_instance+=1\n",
    "        self.fname=fname\n",
    "        self.lname=lname\n",
    "        self.age=age\n",
    "    @classmethod\n",
    "    def your_string(cls,string):\n",
    "        first,last,age=string.split(',')\n",
    "        return cls(first,last,age)\n",
    "    @classmethod\n",
    "    def count_instances(cls):#cls means class @classmethod is a decorator\n",
    "        return f'you have created {cls.count_instance}instance of {cls.__name__} class'\n",
    "    def fullname(self):\n",
    "        return f\"{self.fname}{self.lname}\"\n",
    "    def above_age_18(self):\n",
    "        return self.age>18\n",
    "p1=Person('aman','mirza',19)#these are called instance p1,p1,p1 zarori nai kya\n",
    "p1=Person('aman','mirza',19)#p1 hi use karin koi variable bi use karsakty hain \n",
    "p1=Person('aman','mirza',19)\n",
    "p2=Person.your_string('aman,mirza,19')\n",
    "print(p2.fname,p2.lname,p2.age)#isma python as a constructor likha nai araha lekin vs ma arha ha"
   ]
  },
  {
   "cell_type": "code",
   "execution_count": 14,
   "metadata": {},
   "outputs": [
    {
     "data": {
      "text/plain": [
       "'hi everyone'"
      ]
     },
     "execution_count": 14,
     "metadata": {},
     "output_type": "execute_result"
    }
   ],
   "source": [
    "class Person:\n",
    "    count_instance=0#class variable and and class instance\n",
    "    def __init__(self,fname,lname,age):\n",
    "        Person.count_instance+=1\n",
    "        self.fname=fname\n",
    "        self.lname=lname\n",
    "        self.age=age\n",
    "    @classmethod\n",
    "    def your_string(cls,string):\n",
    "        first,last,age=string.split(',')\n",
    "        return cls(first,last,age)\n",
    "    @staticmethod\n",
    "    def hi():\n",
    "        return 'hi everyone'\n",
    "    @classmethod\n",
    "    def count_instances(cls):#cls means class @classmethod is a decorator\n",
    "        return f'you have created {cls.count_instance}instance of {cls.__name__} class'\n",
    "    def fullname(self):\n",
    "        return f\"{self.fname}{self.lname}\"\n",
    "    def above_age_18(self):\n",
    "        return self.age>18\n",
    "p1=Person('aman','mirza',19)#these are called instance p1,p1,p1 zarori nai kya\n",
    "p1=Person('aman','mirza',19)#p1 hi use karin koi variable bi use karsakty hain \n",
    "p1=Person('aman','mirza',19)\n",
    "p2=Person.your_string('aman,mirza,19')\n",
    "Person.hi()"
   ]
  },
  {
   "cell_type": "code",
   "execution_count": 9,
   "metadata": {},
   "outputs": [
    {
     "name": "stdout",
     "output_type": "stream",
     "text": [
      "123\n"
     ]
    }
   ],
   "source": [
    "#encapsulation:means data or ausky sth method bi ho jisko data\n",
    "#ky sath likha jy\n",
    "class Phone:\n",
    "    \n",
    "    def __init__(self,brand,model,price):\n",
    "        self.brand=brand\n",
    "        self.model=model\n",
    "        self.__price=price\n",
    "def make_call(self,phone_number):\n",
    "    print(f\"calling{phone_number}\")\n",
    "def fullname(self):\n",
    "    return f\"{self.brand}{self.model}\"\n",
    "def send_message(self):\n",
    "    pass # aman #kuch bi naam dy do\n",
    "phone1=Phone('nokia','210',80000)\n",
    "#print(phone1.__price)\n",
    "phone1.__price=-19\n",
    "#print(phone1.__price)\n",
    "phone1._Phone__price=123\n",
    "print(phone1._Phone__price)\n",
    "#print(phone1.__dict__)\n",
    "#_name#convention of private name\n",
    "#__name__#dunder/magic method\n",
    "#l=[2,1,4,2,3,4,5,6,7,9,7,8,9]\n",
    "#l .sort()\n",
    "#print(l)"
   ]
  },
  {
   "cell_type": "code",
   "execution_count": 26,
   "metadata": {},
   "outputs": [
    {
     "name": "stdout",
     "output_type": "stream",
     "text": [
      "210\n",
      "-500\n",
      "nokia210 and price 2000\n"
     ]
    }
   ],
   "source": [
    "#oop property and setter decorator\n",
    "class Phone:\n",
    "    \n",
    "    def __init__(self,brand,model,price):\n",
    "        self.brand=brand\n",
    "        self.model=model\n",
    "        self._price=price\n",
    "        #self._price=max(price,0)\n",
    "        #if price > 0 :\n",
    "        #    self._price=phone1._price\n",
    "       # else:\n",
    "         #   self._price=0\n",
    "        self.complete_specification=f'{self.brand}{self.model} and price {self._price}'\n",
    "    @property\n",
    "    def price(self):\n",
    "        self._price\n",
    "    @price.setter\n",
    "    def price(self,new_price):\n",
    "        self._price=max(new_price,0)\n",
    "    def complete_specification(self):\n",
    "        return f'{self.brand}{self.model} and price {self._price}'\n",
    "    def make_call(self,phone_number):\n",
    "        print(f\"calling{phone_number}\")\n",
    "    def fullname(self):\n",
    "        return f\"{self.brand}{self.model}\"\n",
    "phone1=Phone('nokia','210',2000)\n",
    "print(phone1.model)\n",
    "phone1._price=-500\n",
    "print(phone1._price)\n",
    "print(phone1.complete_specification)\n",
    "#198 video dobhara dekhni ha"
   ]
  },
  {
   "cell_type": "code",
   "execution_count": 22,
   "metadata": {},
   "outputs": [
    {
     "name": "stdout",
     "output_type": "stream",
     "text": [
      "nokia 210\n",
      "samsung 11and price is 100\n"
     ]
    }
   ],
   "source": [
    "class Phone:\n",
    "    def __init__(self,brand,model_name,price):\n",
    "        self.brand=brand\n",
    "        self.model_name=model_name\n",
    "        self.price=max(price,0)\n",
    "    def full_name(self):\n",
    "        return f\"{self.brand} {self.model_name}\"\n",
    "    def make_a_call(self,number):\n",
    "        return f\"calling{number}\"\n",
    "class Smartphone(Phone ):\n",
    "    def __init__(self,brand,model_name,price,ram,internel_memory,camera):\n",
    "        #Phone.__init__(self,brand,model_name,price) ye itna comman nai ha\n",
    "        super().__init__(brand,model_name,price)#ye built in function ha\n",
    "        self.ram=ram                            #or unique bi\n",
    "        self.internel_memory=internel_memory\n",
    "        self.camera=camera\n",
    "phone=Phone('nokia','210',999)\n",
    "smartphone=Smartphone('samsung','11',100,'6gb','32 memory','9mp')\n",
    "print(Phone.full_name(phone))\n",
    "print(Smartphone.full_name(smartphone)+f'and price is {smartphone.price}')\n",
    "#print(make_a_call(number))"
   ]
  },
  {
   "cell_type": "code",
   "execution_count": 25,
   "metadata": {},
   "outputs": [
    {
     "name": "stdout",
     "output_type": "stream",
     "text": [
      "nokia 210\n",
      "samsung 11and price is 100\n"
     ]
    }
   ],
   "source": [
    "#is inhertance smartphone2 class bi add horahi ha \n",
    "C\n",
    "#print(make_a_call(number))"
   ]
  },
  {
   "cell_type": "code",
   "execution_count": 5,
   "metadata": {},
   "outputs": [
    {
     "name": "stdout",
     "output_type": "stream",
     "text": [
      "samsung 11\n"
     ]
    }
   ],
   "source": [
    "#multilevel inheritanc\n",
    "#is inhertance smartphone2 class bi add horahi ha \n",
    "class Phone:\n",
    "    def __init__(self,brand,model_name,price):\n",
    "        self.brand=brand\n",
    "        self.model_name=model_name\n",
    "        self.price=max(price,0)\n",
    "    def full_name(self):\n",
    "        return f\"{self.brand} {self.model_name}\"\n",
    "    def make_a_call(self,number):\n",
    "        return f\"calling{number}\"\n",
    "class Smartphone(Phone ):\n",
    "    def __init__(self,brand,model_name,price,ram,internel_memory,camera):\n",
    "        #Phone.__init__(self,brand,model_name,price) ye itna comman nai ha\n",
    "        super().__init__(brand,model_name,price)#ye built in function ha\n",
    "        self.ram=ram                            #or unique bi\n",
    "        self.internel_memory=internel_memory\n",
    "        self.camera=camera\n",
    "class Smartphone2(Phone ):\n",
    "    def __init__(self,brand,model_name,price,ram,internel_memory,camera):\n",
    "        #Phone.__init__(self,brand,model_name,price) ye itna comman nai ha\n",
    "        super().__init__(brand,model_name,price)#ye built in function ha\n",
    "        self.ram=ram                            #or unique bi\n",
    "        self.internel_memory=internel_memory\n",
    "        self.camera=camera\n",
    "class Mobile(Smartphone):\n",
    "    def __init__(self,brand,model_name,price,ram,internel_memory,camera,front_camera):\n",
    "        super().__init__(brand,model_name,price,ram,internel_memory,camera)\n",
    "        self.front_camera=front_camera\n",
    "phone=Phone('nokia','210',999)\n",
    "smartphone=Smartphone2('samsung','11',100,'6gb','32 memory','9mp')\n",
    "mobile=Mobile('samsung','11',100,'6gb','32 memory','9mp','10 mp')\n",
    "print(Mobile.full_name(mobile))\n",
    "#print(Phone.full_name(phone))\n",
    "#print(Smartphone.full_name(smartphone)+f'and price is {smartphone.price}')\n",
    "#print(make_a_call(number))"
   ]
  },
  {
   "cell_type": "code",
   "execution_count": 8,
   "metadata": {},
   "outputs": [
    {
     "name": "stdout",
     "output_type": "stream",
     "text": [
      "samsung 11\n",
      "Help on class Phone in module __main__:\n",
      "\n",
      "class Phone(builtins.object)\n",
      " |  Methods defined here:\n",
      " |  \n",
      " |  __init__(self, brand, model_name, price)\n",
      " |      Initialize self.  See help(type(self)) for accurate signature.\n",
      " |  \n",
      " |  full_name(self)\n",
      " |  \n",
      " |  make_a_call(self, number)\n",
      " |  \n",
      " |  ----------------------------------------------------------------------\n",
      " |  Data descriptors defined here:\n",
      " |  \n",
      " |  __dict__\n",
      " |      dictionary for instance variables (if defined)\n",
      " |  \n",
      " |  __weakref__\n",
      " |      list of weak references to the object (if defined)\n",
      "\n",
      "None\n"
     ]
    }
   ],
   "source": [
    "#method resolution order\n",
    "class Phone:\n",
    "    def __init__(self,brand,model_name,price):\n",
    "        self.brand=brand\n",
    "        self.model_name=model_name\n",
    "        self.price=max(price,0)\n",
    "    def full_name(self):\n",
    "        return f\"{self.brand} {self.model_name}\"\n",
    "    def make_a_call(self,number):\n",
    "        return f\"calling{number}\"\n",
    "class Smartphone(Phone ):\n",
    "    def __init__(self,brand,model_name,price,ram,internel_memory,camera):\n",
    "        #Phone.__init__(self,brand,model_name,price) ye itna comman nai ha\n",
    "        super().__init__(brand,model_name,price)#ye built in function ha\n",
    "        self.ram=ram                            #or unique bi\n",
    "        self.internel_memory=internel_memory\n",
    "        self.camera=camera\n",
    "class Smartphone2(Phone ):\n",
    "    def __init__(self,brand,model_name,price,ram,internel_memory,camera):\n",
    "        #Phone.__init__(self,brand,model_name,price) ye itna comman nai ha\n",
    "        super().__init__(brand,model_name,price)#ye built in function ha\n",
    "        self.ram=ram                            #or unique bi\n",
    "        self.internel_memory=internel_memory\n",
    "        self.camera=camera\n",
    "class Mobile(Smartphone):\n",
    "    def __init__(self,brand,model_name,price,ram,internel_memory,camera,front_camera):\n",
    "        super().__init__(brand,model_name,price,ram,internel_memory,camera)\n",
    "        self.front_camera=front_camera\n",
    "phone=Phone('nokia','210',999)\n",
    "smartphone=Smartphone2('samsung','11',100,'6gb','32 memory','9mp')\n",
    "mobile=Mobile('samsung','11',100,'6gb','32 memory','9mp','10 mp')\n",
    "print(Mobile.full_name(mobile))\n",
    "print(help(Phone))\n",
    "#help function ye batata ha kon sy fuction kis class ma use hoty hain\n",
    "#method resolution har class ka hota ha\n",
    "#print(Phone.full_name(phone))\n",
    "#print(Smartphone.full_name(smartphone)+f'and price is {smartphone.price}')\n",
    "#print(make_a_call(number))"
   ]
  },
  {
   "cell_type": "code",
   "execution_count": 15,
   "metadata": {},
   "outputs": [
    {
     "name": "stdout",
     "output_type": "stream",
     "text": [
      "samsung 11xyz\n",
      "Help on class Mobile in module __main__:\n",
      "\n",
      "class Mobile(Smartphone)\n",
      " |  Method resolution order:\n",
      " |      Mobile\n",
      " |      Smartphone\n",
      " |      Phone\n",
      " |      builtins.object\n",
      " |  \n",
      " |  Methods defined here:\n",
      " |  \n",
      " |  __init__(self, brand, model_name, price, ram, internel_memory, camera, front_camera)\n",
      " |      Initialize self.  See help(type(self)) for accurate signature.\n",
      " |  \n",
      " |  ----------------------------------------------------------------------\n",
      " |  Methods inherited from Phone:\n",
      " |  \n",
      " |  full_name(self)\n",
      " |  \n",
      " |  make_a_call(self, number)\n",
      " |  \n",
      " |  ----------------------------------------------------------------------\n",
      " |  Data descriptors inherited from Phone:\n",
      " |  \n",
      " |  __dict__\n",
      " |      dictionary for instance variables (if defined)\n",
      " |  \n",
      " |  __weakref__\n",
      " |      list of weak references to the object (if defined)\n",
      "\n",
      "None\n"
     ]
    }
   ],
   "source": [
    "#method over riding\n",
    "class Phone:\n",
    "    def __init__(self,brand,model_name,price):\n",
    "        self.brand=brand\n",
    "        self.model_name=model_name\n",
    "        self.price=max(price,0)\n",
    "    def full_name(self):\n",
    "        return f\"{self.brand} {self.model_name}xyz\"\n",
    "    def make_a_call(self,number):\n",
    "        return f\"calling{number}\"\n",
    "class Smartphone(Phone ):\n",
    "    def __init__(self,brand,model_name,price,ram,internel_memory,camera):\n",
    "        #Phone.__init__(self,brand,model_name,price) ye itna comman nai ha\n",
    "        super().__init__(brand,model_name,price)#ye built in function ha\n",
    "        self.ram=ram                            #or unique bi\n",
    "        self.internel_memory=internel_memory\n",
    "        self.camera=camera\n",
    "class Smartphone2(Phone ):\n",
    "    def __init__(self,brand,model_name,price,ram,internel_memory,camera):\n",
    "        #Phone.__init__(self,brand,model_name,price) ye itna comman nai ha\n",
    "        super().__init__(brand,model_name,price)#ye built in function ha\n",
    "        self.ram=ram                            #or unique bi\n",
    "        self.internel_memory=internel_memory\n",
    "        self.camera=camera\n",
    "class Mobile(Smartphone):\n",
    "    def __init__(self,brand,model_name,price,ram,internel_memory,camera,front_camera):\n",
    "        super().__init__(brand,model_name,price,ram,internel_memory,camera)\n",
    "        self.front_camera=front_camera\n",
    "phone=Phone('nokia','210',999)\n",
    "smartphone=Smartphone2('samsung','11',100,'6gb','32 memory','9mp')\n",
    "mobile=Mobile('samsung','11',100,'6gb','32 memory','9mp','10 mp')\n",
    "print(Mobile.full_name(mobile))\n",
    "print(help(Mobile))\n",
    "#help function ye batata ha kon sy fuction kis class ma use hoty hain\n",
    "#method resolution har class ka hota ha jis class ma fuction define hoga ye ausi ko call kary\n",
    "#ga ager kisi class ma functuion define nai ha to wo kisi or class ko call kary ga\n",
    "#print(Phone.full_name(phone))\n",
    "#print(Smartphone.full_name(smartphone)+f'and price is {smartphone.price}')\n",
    "#print(make_a_call(number))"
   ]
  },
  {
   "cell_type": "code",
   "execution_count": 17,
   "metadata": {},
   "outputs": [
    {
     "name": "stdout",
     "output_type": "stream",
     "text": [
      "True\n",
      "False\n"
     ]
    }
   ],
   "source": [
    "#issistance\n",
    "#issistance means koi instance current class ma ha ya nai yani true or false\n",
    "print(isinstance(mobile,Mobile))\n",
    "print(isinstance(smartphone,Mobile))"
   ]
  },
  {
   "cell_type": "code",
   "execution_count": 3,
   "metadata": {},
   "outputs": [
    {
     "name": "stdout",
     "output_type": "stream",
     "text": [
      "nokia 210\n",
      "samsung 11and price is 100\n",
      "samsung 11\n",
      "False\n",
      "True\n"
     ]
    }
   ],
   "source": [
    "#issubclass function\n",
    "#issubclass means child class parent class ko inherit karti ha ya nai\n",
    "class Phone:\n",
    "    def __init__(self,brand,model_name,price):\n",
    "        self.brand=brand\n",
    "        self.model_name=model_name\n",
    "        self.price=max(price,0)\n",
    "    def full_name(self):\n",
    "        return f\"{self.brand} {self.model_name}\"\n",
    "    def make_a_call(self,number):\n",
    "        return f\"calling{number}\"\n",
    "class Smartphone(Phone ):\n",
    "    def __init__(self,brand,model_name,price,ram,internel_memory,camera):\n",
    "        #Phone.__init__(self,brand,model_name,price) ye itna comman nai ha\n",
    "        super().__init__(brand,model_name,price)#ye built in function ha\n",
    "        self.ram=ram                            #or unique bi\n",
    "        self.internel_memory=internel_memory\n",
    "        self.camera=camera\n",
    "class Mobile(Smartphone):\n",
    "    def __init__(self,brand,model_name,price,ram,internel_memory,camera,front_camera):\n",
    "        super().__init__(brand,model_name,price,ram,internel_memory,camera)\n",
    "        self.front_camera=front_camera\n",
    "phone=Phone('nokia','210',999)\n",
    "smartphone=Smartphone('samsung','11',100,'6gb','32 memory','9mp')\n",
    "print(Phone.full_name(phone))\n",
    "print(Smartphone.full_name(smartphone)+f'and price is {smartphone.price}')\n",
    "mobile=Mobile('samsung','11',100,'6gb','32 memory','9mp','10 mp')\n",
    "print(Mobile.full_name(mobile))\n",
    "print(issubclass(Phone,Mobile))\n",
    "print(issubclass(Smartphone,Phone))"
   ]
  },
  {
   "cell_type": "code",
   "execution_count": 17,
   "metadata": {},
   "outputs": [
    {
     "name": "stdout",
     "output_type": "stream",
     "text": [
      "nokia 210xyz\n"
     ]
    }
   ],
   "source": [
    "class Phone:\n",
    "    def __init__(self,brand,model_name,price):\n",
    "        self.brand=brand\n",
    "        self.model_name=model_name\n",
    "        self.price=max(price,0)\n",
    "    def full_name(self):\n",
    "        return f\"{self.brand} {self.model_name}xyz\"\n",
    "    def make_a_call(self,number):\n",
    "        return f\"calling{number}\"\n",
    "phone=Phone('nokia','210',999)\n",
    "print(Phone.full_name(phone))"
   ]
  },
  {
   "cell_type": "code",
   "execution_count": 15,
   "metadata": {},
   "outputs": [
    {
     "name": "stdout",
     "output_type": "stream",
     "text": [
      "12 nokia\n"
     ]
    }
   ],
   "source": [
    "#special magic and dunder method\n",
    "class Phone:\n",
    "    def __init__(self,brand,model,price):\n",
    "        self.brand=brand\n",
    "        self.model=model\n",
    "        self.price=price\n",
    "    def phone_name(self):\n",
    "        return f'{self.brand} {self.model}'\n",
    "    def __repr__(self):\n",
    "        return f'{self.price} {self.brand}'\n",
    "my_phone=Phone('nokia','210',12)\n",
    "print(my_phone)"
   ]
  },
  {
   "cell_type": "code",
   "execution_count": 17,
   "metadata": {},
   "outputs": [
    {
     "name": "stdout",
     "output_type": "stream",
     "text": [
      "12 nokia\n"
     ]
    }
   ],
   "source": [
    "class Phone:\n",
    "    def __init__(self,brand,model,price):\n",
    "        self.brand=brand\n",
    "        self.model=model\n",
    "        self.price=price\n",
    "    def phone_name(self):\n",
    "        return f'{self.brand} {self.model}'\n",
    "    def __repr__(self):\n",
    "        return f'{self.price} {self.brand}'\n",
    "    #jo method last ma define hoga ausko priny kary ga\n",
    "    #balky str waly ko print kaery ga\n",
    "    def __str__(self):\n",
    "        return f'{self.price} {self.model}'\n",
    "    \n",
    "my_phone=Phone('nokia','210',12)\n",
    "print(repr(my_phone))#lekin uajn hum ausko likh kar bta skty hain ky \n",
    "#kon sa method call karna ha"
   ]
  },
  {
   "cell_type": "code",
   "execution_count": 19,
   "metadata": {},
   "outputs": [
    {
     "name": "stdout",
     "output_type": "stream",
     "text": [
      "12 nokia\n"
     ]
    }
   ],
   "source": [
    "class Phone:\n",
    "    def __init__(self,brand,model,price):\n",
    "        self.brand=brand\n",
    "        self.model=model\n",
    "        self.price=price\n",
    "    def phone_name(self):\n",
    "        return f'{self.brand} {self.model}'\n",
    "    def __repr__(self):\n",
    "        return f'{self.price} {self.brand}'\n",
    "    #jo method last ma define hoga ausko priny kary ga\n",
    "    #balky str waly ko print kaery ga\n",
    "    def __str__(self):\n",
    "        return f'{self.price} {self.model}'\n",
    "    \n",
    "my_phone=Phone('nokia','210',12)\n",
    "#print(repr(my_phone))#lekin uajn hum ausko likh kar bta skty hain ky \n",
    "#kon sa method call karna ha\n",
    "#another way\n",
    "print(my_phone.__repr__())"
   ]
  },
  {
   "cell_type": "code",
   "execution_count": 27,
   "metadata": {},
   "outputs": [
    {
     "name": "stdout",
     "output_type": "stream",
     "text": [
      "9\n"
     ]
    }
   ],
   "source": [
    "class Phone:\n",
    "    def __init__(self,brand,model,price):\n",
    "        self.brand=brand\n",
    "        self.model=model\n",
    "        self.price=price\n",
    "    def phone_name(self):\n",
    "        return f'{self.brand} {self.model}'\n",
    "    def __repr__(self):\n",
    "        return f'{self.price} {self.brand}'\n",
    "    #jo method last ma define hoga ausko priny kary ga\n",
    "    #balky str waly ko print kaery ga\n",
    "    def __str__(self):\n",
    "        return f'{self.price} {self.model}'\n",
    "    #to count length of any function\n",
    "    def __len__(self):\n",
    "    \n",
    "my_phone=Phone('nokia','210',12)\n",
    "print(len(my_phone))\n",
    "#print(repr(my_phone))#lekin uajn hum ausko likh kar bta skty hain ky \n",
    "#kon sa method call karna ha\n",
    "#another way\n",
    "#print(my_phone.__repr__())"
   ]
  },
  {
   "cell_type": "code",
   "execution_count": 7,
   "metadata": {},
   "outputs": [
    {
     "name": "stdout",
     "output_type": "stream",
     "text": [
      "nokianokia\n"
     ]
    }
   ],
   "source": [
    "#opeerator over loading\n",
    "class Phone:\n",
    "    def __init__(self,brand,model,price):\n",
    "        self.brand=brand\n",
    "        self.model=model\n",
    "        self.price=price\n",
    "    def phone_name(self):\n",
    "        return f'{self.brand} {self.model}'\n",
    "    def __repr__(self):\n",
    "        return f'{self.price} {self.brand}'\n",
    "    #jo method last ma define hoga ausko priny kary ga\n",
    "    #balky str waly ko print kaery ga\n",
    "    def __str__(self):\n",
    "        return f'{self.price} {self.model}'\n",
    "    #to count length of any function\n",
    "    def __len__(self):\n",
    "        return len(self.phone_name())\n",
    "    def __add__(self,ab):#is ma add builtin fuction ha\n",
    "        return self.brand+ab.brand\n",
    "my_phone=Phone('nokia','210',12)\n",
    "my_phone1=Phone('nokia','210',12)\n",
    "print(my_phone + my_phone1)"
   ]
  },
  {
   "cell_type": "code",
   "execution_count": 8,
   "metadata": {},
   "outputs": [],
   "source": [
    "#polymorphism bad ma detail karna ha"
   ]
  },
  {
   "cell_type": "code",
   "execution_count": 15,
   "metadata": {},
   "outputs": [
    {
     "ename": "SyntaxError",
     "evalue": "invalid syntax (<ipython-input-15-54c7c23e3e1b>, line 5)",
     "output_type": "error",
     "traceback": [
      "\u001b[1;36m  File \u001b[1;32m\"<ipython-input-15-54c7c23e3e1b>\"\u001b[1;36m, line \u001b[1;32m5\u001b[0m\n\u001b[1;33m    rise typeError('u have done mistake')\u001b[0m\n\u001b[1;37m                 ^\u001b[0m\n\u001b[1;31mSyntaxError\u001b[0m\u001b[1;31m:\u001b[0m invalid syntax\n"
     ]
    }
   ],
   "source": [
    "#error rise by user\n",
    "def add(a,b):\n",
    "    if (type(a) is int) and (type(b) is int):\n",
    "        return a+b\n",
    "    rise typeError('u have done mistake')\n",
    "print(add('2','3'))#u cannot put number in strings "
   ]
  },
  {
   "cell_type": "code",
   "execution_count": 1,
   "metadata": {},
   "outputs": [
    {
     "ename": "TypeError",
     "evalue": "__init__() takes 1 positional argument but 3 were given",
     "output_type": "error",
     "traceback": [
      "\u001b[1;31m---------------------------------------------------------------------------\u001b[0m",
      "\u001b[1;31mTypeError\u001b[0m                                 Traceback (most recent call last)",
      "\u001b[1;32m<ipython-input-1-32050321ba7c>\u001b[0m in \u001b[0;36m<module>\u001b[1;34m()\u001b[0m\n\u001b[0;32m     16\u001b[0m     \u001b[1;32mdef\u001b[0m \u001b[0msound\u001b[0m\u001b[1;33m(\u001b[0m\u001b[0mself\u001b[0m\u001b[1;33m)\u001b[0m\u001b[1;33m:\u001b[0m\u001b[1;33m\u001b[0m\u001b[0m\n\u001b[0;32m     17\u001b[0m         \u001b[1;32mreturn\u001b[0m \u001b[1;34m'meao meao'\u001b[0m\u001b[1;33m\u001b[0m\u001b[0m\n\u001b[1;32m---> 18\u001b[1;33m \u001b[0mdogg\u001b[0m\u001b[1;33m=\u001b[0m\u001b[0mdog\u001b[0m\u001b[1;33m(\u001b[0m\u001b[1;34m'aww'\u001b[0m\u001b[1;33m,\u001b[0m\u001b[1;34m'ooo'\u001b[0m\u001b[1;33m)\u001b[0m\u001b[1;33m\u001b[0m\u001b[0m\n\u001b[0m\u001b[0;32m     19\u001b[0m \u001b[0mprint\u001b[0m\u001b[1;33m(\u001b[0m\u001b[0mcat\u001b[0m\u001b[1;33m.\u001b[0m\u001b[0msound\u001b[0m\u001b[1;33m(\u001b[0m\u001b[0mAnimal\u001b[0m\u001b[1;33m)\u001b[0m\u001b[1;33m)\u001b[0m\u001b[1;33m\u001b[0m\u001b[0m\n",
      "\u001b[1;31mTypeError\u001b[0m: __init__() takes 1 positional argument but 3 were given"
     ]
    }
   ],
   "source": [
    "#not implemented error and abstract but both are same\n",
    "class Animal:\n",
    "    def __init__(self,name):\n",
    "        self.name=name\n",
    "    def sound(self):\n",
    "        raise NotImplementedError('u have not define it sub class')\n",
    "class dog(Animal):\n",
    "    def __init__(self):\n",
    "        super().__init__(self,name,breed)\n",
    "        self.breed=breed\n",
    "    def sound(self):\n",
    "        return 'bhow bhow'\n",
    "class cat(Animal):\n",
    "    def __init__(self,name,breed):\n",
    "        self.name=name\n",
    "    def sound(self):\n",
    "        return 'meao meao'\n",
    "dogg=dog('aww','ooo')\n",
    "print(cat.sound(Animal))"
   ]
  },
  {
   "cell_type": "code",
   "execution_count": 23,
   "metadata": {},
   "outputs": [
    {
     "ename": "AttributeError",
     "evalue": "'Mobile' object has no attribute 'MobileStore'",
     "output_type": "error",
     "traceback": [
      "\u001b[1;31m---------------------------------------------------------------------------\u001b[0m",
      "\u001b[1;31mAttributeError\u001b[0m                            Traceback (most recent call last)",
      "\u001b[1;32m<ipython-input-23-8dd805365ee9>\u001b[0m in \u001b[0;36m<module>\u001b[1;34m()\u001b[0m\n\u001b[0;32m     16\u001b[0m \u001b[0mmobo_phones\u001b[0m\u001b[1;33m=\u001b[0m\u001b[0mstore\u001b[0m\u001b[1;33m.\u001b[0m\u001b[0mmobiles\u001b[0m\u001b[1;33m\u001b[0m\u001b[0m\n\u001b[0;32m     17\u001b[0m \u001b[1;31m#store.add_mobile(oneplus)\u001b[0m\u001b[1;33m\u001b[0m\u001b[1;33m\u001b[0m\u001b[0m\n\u001b[1;32m---> 18\u001b[1;33m \u001b[0mprint\u001b[0m\u001b[1;33m(\u001b[0m\u001b[0moneplus\u001b[0m\u001b[1;33m.\u001b[0m\u001b[0mMobileStore\u001b[0m\u001b[1;33m(\u001b[0m\u001b[0mMobile\u001b[0m\u001b[1;33m)\u001b[0m\u001b[1;33m)\u001b[0m\u001b[1;33m\u001b[0m\u001b[0m\n\u001b[0m",
      "\u001b[1;31mAttributeError\u001b[0m: 'Mobile' object has no attribute 'MobileStore'"
     ]
    }
   ],
   "source": [
    "#another example of error raise\n",
    "class Mobile:\n",
    "    def __init__(self,name):\n",
    "        self.name=name\n",
    "class MobileStore:\n",
    "    def __init__(self):\n",
    "        self.mobiles=[]\n",
    "    def add_mobile(self,new_mobile):\n",
    "        if isinstance(new_mobile,Mobile):\n",
    "            self.mobiles.append(new_mobile)\n",
    "        else:\n",
    "            raise TypeError('new mobile should be object of an mobile class')\n",
    "oneplus=Mobile('oneplus A')\n",
    "samsung='samsung galaxy s9'\n",
    "#store=MobileStore()\n",
    "mobo_phones=store.mobiles\n",
    "#store.add_mobile(oneplus)\n",
    "print(oneplus.MobileStore(Mobile))"
   ]
  },
  {
   "cell_type": "code",
   "execution_count": 1,
   "metadata": {},
   "outputs": [
    {
     "name": "stdout",
     "output_type": "stream",
     "text": [
      "enter your age:19\n",
      "you are not allow\n"
     ]
    }
   ],
   "source": [
    "#exception handling\n",
    "#try and except\n",
    "while True:\n",
    "    try:\n",
    "        age=int(input(\"enter your age:\"))\n",
    "        break\n",
    "    except ValueError:\n",
    "        print('invalid text')\n",
    "    except:\n",
    "        print('unexpected error')\n",
    "if age<18:\n",
    "    print('u are welcome')\n",
    "else:\n",
    "    print('you are not allow')"
   ]
  },
  {
   "cell_type": "code",
   "execution_count": 3,
   "metadata": {},
   "outputs": [
    {
     "name": "stdout",
     "output_type": "stream",
     "text": [
      "enter your age:qqe\n",
      "invalid text\n",
      "finally code runs\n",
      "enter your age:1\n",
      "finally code runs\n"
     ]
    }
   ],
   "source": [
    "#else and finally clause in exception handling\n",
    "while True:\n",
    "    try:\n",
    "        age=int(input(\"enter your age:\"))\n",
    "        break\n",
    "    except ValueError:\n",
    "        print('invalid text')\n",
    "    except:\n",
    "        print('unexpected error')\n",
    "    else:\n",
    "        print(f'user input ={number}')\n",
    "        break\n",
    "    finally:\n",
    "        print('finally code runs')#finally wla code chaly ga chehe error ho ya na ho"
   ]
  },
  {
   "cell_type": "code",
   "execution_count": 12,
   "metadata": {},
   "outputs": [
    {
     "name": "stdout",
     "output_type": "stream",
     "text": [
      "number must be in int\n",
      "None\n"
     ]
    }
   ],
   "source": [
    "#problem\n",
    "def divid(a,b):\n",
    "    try:\n",
    "        return a/b\n",
    "    except ZeroDivisionError as err:\n",
    "        print(err)\n",
    "    except TypeError as err:\n",
    "        print('number must be in int')\n",
    "    except:\n",
    "        print('unexpected error')\n",
    "print(divid(4,'2'))"
   ]
  },
  {
   "cell_type": "code",
   "execution_count": 18,
   "metadata": {
    "scrolled": true
   },
   "outputs": [
    {
     "name": "stdout",
     "output_type": "stream",
     "text": [
      "enter your nameusername\n",
      "hi.. username\n"
     ]
    }
   ],
   "source": [
    "def validate(name):\n",
    "    if len(name)<8:\n",
    "        raise ValueError('name is to short')\n",
    "username=input('enter your name')\n",
    "validate(username)\n",
    "print(f'hi.. {username}')"
   ]
  },
  {
   "cell_type": "code",
   "execution_count": 15,
   "metadata": {},
   "outputs": [
    {
     "name": "stdout",
     "output_type": "stream",
     "text": [
      "cursor position<built-in method tell of _io.TextIOWrapper object at 0x00000285F4FFF8B8>\n",
      "\n",
      "\n"
     ]
    }
   ],
   "source": [
    "#iofile open,read,cursor,seek,tell,readline,readlines,close method\n",
    "f=open('file.txt','r')\n",
    "#print(f'cursor position{f.tell}')\n",
    "print(f.read())\n",
    "print(f.read())\n",
    "f.close()"
   ]
  },
  {
   "cell_type": "code",
   "execution_count": 16,
   "metadata": {},
   "outputs": [
    {
     "name": "stdout",
     "output_type": "stream",
     "text": [
      "cursor position<built-in method tell of _io.TextIOWrapper object at 0x00000285F4FFF990>\n",
      "cursor position<built-in method tell of _io.TextIOWrapper object at 0x00000285F4FFF990>\n",
      "\n"
     ]
    }
   ],
   "source": [
    "f=open('file.txt','r')\n",
    "print(f'cursor position{f.tell}')\n",
    "f.seek(0)#seek method cursor ki position ki end sy autha kar 0 positiion par ly ata ha\n",
    "print(f'cursor position{f.tell}')\n",
    "print(f.read())\n",
    "f.close()"
   ]
  },
  {
   "cell_type": "code",
   "execution_count": 18,
   "metadata": {
    "scrolled": true
   },
   "outputs": [
    {
     "name": "stdout",
     "output_type": "stream",
     "text": [
      "cursor position<built-in method tell of _io.TextIOWrapper object at 0x00000285F4FFF990>\n",
      "[]\n"
     ]
    }
   ],
   "source": [
    "f=open('file.txt','r')\n",
    "print(f'cursor position{f.tell}')\n",
    "#f.seek(0)#seek method cursor ki position ki end sy autha kar 0 positiion par ly ata ha\n",
    "#print(f'cursor position{f.tell}')\n",
    "print(f.readlines())\n",
    "f.close()'''readline method ek hi dafa ma ek hi line ko read karyga jitna dafa read line likhyga autni dafa print hgo line'''"
   ]
  },
  {
   "cell_type": "code",
   "execution_count": 24,
   "metadata": {},
   "outputs": [
    {
     "name": "stdout",
     "output_type": "stream",
     "text": [
      "[]\n"
     ]
    }
   ],
   "source": [
    "f=open('file.txt','r')\n",
    "lines=f.readlines()\n",
    "print(lines)#is ma kuch problem arhi ha is waja sy print nai karaha ha\n",
    "f.close()\n",
    "#'''readlline method sari lens ko ek list ma likh dyga'''"
   ]
  },
  {
   "cell_type": "code",
   "execution_count": 27,
   "metadata": {},
   "outputs": [
    {
     "name": "stdout",
     "output_type": "stream",
     "text": [
      "file.txt\n",
      "False\n",
      "True\n"
     ]
    }
   ],
   "source": [
    "f=open('file.txt','r')\n",
    "\n",
    "print(f.name)\n",
    "print(f.closed)\n",
    "f.close()\n",
    "print(f.closed)"
   ]
  },
  {
   "cell_type": "code",
   "execution_count": 8,
   "metadata": {},
   "outputs": [
    {
     "name": "stdout",
     "output_type": "stream",
     "text": [
      "<built-in method read of _io.TextIOWrapper object at 0x000001327FFAF558>\n",
      "True\n"
     ]
    }
   ],
   "source": [
    "#with block\n",
    "with open('file.txt') as a:\n",
    "    print(a.read)\n",
    "   # data=f.read()\n",
    "   # print(data)\n",
    "print(f.closed)\n",
    "#is apko file closed karny ki zarorat naio ha upper closed maney esi hilikha ah"
   ]
  },
  {
   "cell_type": "code",
   "execution_count": 16,
   "metadata": {},
   "outputs": [],
   "source": [
    "with open('file.txt','w') as a:\n",
    "    a.write('aman mirza')#ye function nai chal raha lekin write method file mojod text ko over write \n",
    "    #kardetaa ha "
   ]
  },
  {
   "cell_type": "code",
   "execution_count": 15,
   "metadata": {},
   "outputs": [],
   "source": [
    "with open('file1.txt','w') as a:#meny file1.txt ki file nai bani thi is waja yahan banai ha or ye\n",
    "    a.write('dvsfGerhEHe')#khud hi create kardeti ha"
   ]
  },
  {
   "cell_type": "code",
   "execution_count": 17,
   "metadata": {},
   "outputs": [],
   "source": [
    "with open('file1.txt','a') as a:#append mode sy bi hum file create karsakty hain\n",
    "    a.write('hihihihi')#a ka matlab ha appened  ye txt fiile ky ander add kardeta ha "
   ]
  },
  {
   "cell_type": "code",
   "execution_count": 25,
   "metadata": {},
   "outputs": [],
   "source": [
    "with open('file1.txt', 'r+') as a:\n",
    "    a.seek(len(a.read()))#r+ mode ap ko write kaewany ky liye seek method use karna parega or is ma \n",
    "    a.write('sc')#ma ap koi file create nai karsaktay hain"
   ]
  },
  {
   "cell_type": "code",
   "execution_count": 27,
   "metadata": {},
   "outputs": [],
   "source": [
    "with open('file1.txt','r') as rf:\n",
    "    with open('file2.txt','w') as wf:\n",
    "        wf.write(rf.read())\n",
    "#isma hum ny ek file ka data kisi or file dala or sath \n",
    "#hi new file ko banya ha"
   ]
  },
  {
   "cell_type": "code",
   "execution_count": 5,
   "metadata": {},
   "outputs": [],
   "source": [
    "with open('file1.txt','r')as rf:\n",
    "    with open('file2.txt','w')as wf:\n",
    "        for line in rf.readlines():\n",
    "            name,salary=line.split(',')\n",
    "            wf.write(f'{name} and salary is {salary}')"
   ]
  },
  {
   "cell_type": "code",
   "execution_count": 6,
   "metadata": {},
   "outputs": [],
   "source": [
    "#tutorial 220 bad dekhna ha"
   ]
  },
  {
   "cell_type": "code",
   "execution_count": 12,
   "metadata": {},
   "outputs": [
    {
     "name": "stdout",
     "output_type": "stream",
     "text": [
      "['Belinda Jameson', '2017', 'Cushing House', '148', '3.52', 'aman']\n",
      "['Jeff Smith', '2018', 'Prescott House', '17-D', '3.20', 'aman']\n",
      "['Sandy Allen', '2019', 'Oliver House', '108', '3.48', 'aman']\n"
     ]
    }
   ],
   "source": [
    "#csv files\n",
    "from csv import reader\n",
    "with open('file1.csv','r')as f:\n",
    "    csv_reader=reader(f)\n",
    "    next(csv_reader)\n",
    "    next(csv_reader)#jitny zayada next function put kary gy autni hi file ma line ko kam kardega\n",
    "    for row in csv_reader:\n",
    "        row.append('aman')\n",
    "        print(row)\n",
    " "
   ]
  },
  {
   "cell_type": "code",
   "execution_count": 2,
   "metadata": {},
   "outputs": [
    {
     "name": "stdout",
     "output_type": "stream",
     "text": [
      "Sally Whittaker\n",
      "Belinda Jameson\n",
      "Jeff Smith\n",
      "Sandy Allen\n"
     ]
    }
   ],
   "source": [
    "from csv import DictReader\n",
    "with open('file1.csv','r')as f:\n",
    "    csv_reader=DictReader(f)\n",
    "    for row in csv_reader:\n",
    "        print(row['name'])"
   ]
  },
  {
   "cell_type": "code",
   "execution_count": 7,
   "metadata": {},
   "outputs": [
    {
     "name": "stdout",
     "output_type": "stream",
     "text": [
      "OrderedDict([('name', 'Sally Whittaker'), ('year', '2018'), ('house', 'McCarren House'), ('pin', '312'), (None, ['3', '75'])])\n"
     ]
    }
   ],
   "source": [
    "from csv import DictReader\n",
    "with open('file1.csv','r')as f:\n",
    "    csv_reader=DictReader(f,delimiter='.')\n",
    "    for row in csv_reader:\n",
    "        print(row)"
   ]
  },
  {
   "cell_type": "code",
   "execution_count": 12,
   "metadata": {},
   "outputs": [],
   "source": [
    "from csv import writer\n",
    "with open('file3.csv','w',newline='')as f:#yahan newl9ine predefine ha is waja sy likha ha\n",
    "    csv_writer=writer(f)\n",
    "    csv_writer.writerows([['name','country'],['aman','pakistan'],['mirza','pakistan']])\n"
   ]
  },
  {
   "cell_type": "code",
   "execution_count": 3,
   "metadata": {},
   "outputs": [],
   "source": [
    "from csv import DictWriter\n",
    "with open('abc.csv','w',newline='')as f:\n",
    "    csv_writer=DictWriter(f,fieldnames=['first_name','last_name','age'])\n",
    "    csv_writer.writeheader()\n",
    "    csv_writer.writerow({\n",
    "        'first_name':'aman',\n",
    "        'last_name':'mirza',\n",
    "        'age':19\n",
    "    })"
   ]
  },
  {
   "cell_type": "code",
   "execution_count": 7,
   "metadata": {},
   "outputs": [],
   "source": [
    "from csv import DictWriter#now passing list in dictionary or is writerows likhna zarori ha \n",
    "with open('abc.csv','w',newline='')as f:\n",
    "    csv_writer=DictWriter(f,fieldnames=['first_name','last_name','age'])\n",
    "    csv_writer.writeheader()\n",
    "    csv_writer.writerows([\n",
    "        {'first_name':'aman','last_name':'mirza','age':19},\n",
    "        {'first_name':'aman','last_name':'mirza','age':19},\n",
    "        {'first_name':'aman','last_name':'mirza','age':19}\n",
    "    ])"
   ]
  },
  {
   "cell_type": "code",
   "execution_count": 3,
   "metadata": {},
   "outputs": [],
   "source": [
    "#read and write in csv files\n",
    "from csv import DictReader,DictWriter\n",
    "with open('abc.csv','r')as r:\n",
    "    with open('xyz.csv','w',newline='')as w:\n",
    "        csv_reader=DictReader(r)\n",
    "        csv_writer=DictWriter(w,fieldnames=['first_name','last_name','age'])\n",
    "        csv_writer.writeheader()\n",
    "        for row in csv_reader:\n",
    "            fname,lname,age=row['first_name'],row['last_name'],row['age']\n",
    "            csv_writer.writerow({\n",
    "                'first_name':fname.upper(),\n",
    "                'last_name':lname.upper(),\n",
    "                'age':age\n",
    "            })"
   ]
  },
  {
   "cell_type": "code",
   "execution_count": 13,
   "metadata": {},
   "outputs": [
    {
     "name": "stdout",
     "output_type": "stream",
     "text": [
      "C:\\Users\\hp\n",
      "False\n",
      "C:\\Users\\hp\n",
      "False\n"
     ]
    }
   ],
   "source": [
    "#os modules\n",
    "import os \n",
    "#os.getcwd()\n",
    "print(os.getcwd())#cwd means current working directory\n",
    "#os.mkdir('aman')#mkdir predefine function ha python ma isy folder create karty hain\n",
    "print(os.path.exists('abc'))#os.path ye batata ha ky pass ye file exist karti ha ya nai"
   ]
  },
  {
   "cell_type": "code",
   "execution_count": 24,
   "metadata": {},
   "outputs": [
    {
     "name": "stdout",
     "output_type": "stream",
     "text": [
      "already exist\n",
      "already exist\n"
     ]
    }
   ],
   "source": [
    "import os \n",
    "os.getcwd()\n",
    "if os.path.exists('movie'):\n",
    "    print('already exist')\n",
    "else:\n",
    "    os.mkdir('movie')"
   ]
  },
  {
   "cell_type": "code",
   "execution_count": 32,
   "metadata": {},
   "outputs": [],
   "source": [
    "#os module :how to create text file\n",
    "import os \n",
    "os.mkdir(r'C:\\Users\\hp\\Desktop\\python.ai\\aman99')"
   ]
  },
  {
   "cell_type": "code",
   "execution_count": 34,
   "metadata": {},
   "outputs": [
    {
     "name": "stdout",
     "output_type": "stream",
     "text": [
      "[]\n",
      "[]\n"
     ]
    }
   ],
   "source": [
    "#list of module\n",
    "import os \n",
    "print(os.listdir())"
   ]
  },
  {
   "cell_type": "code",
   "execution_count": 40,
   "metadata": {},
   "outputs": [
    {
     "name": "stdout",
     "output_type": "stream",
     "text": [
      "C:\\Users\\hp\\Desktop\\python.ai\\9-Apr-2019 (1).ipynb\n",
      "C:\\Users\\hp\\Desktop\\python.ai\\9-Apr-2019.ipynb\n",
      "C:\\Users\\hp\\Desktop\\python.ai\\aman9\n",
      "C:\\Users\\hp\\Desktop\\python.ai\\aman99\n",
      "C:\\Users\\hp\\Desktop\\python.ai\\automatetheboringstuffwithpython.pdf\n",
      "C:\\Users\\hp\\Desktop\\python.ai\\A_SmarterWay_to_Learn_Python.pdf;filename_=_UTF-8''A%20SmarterWay%20to%20Learn%20Python.pdf\n",
      "C:\\Users\\hp\\Desktop\\python.ai\\Capture.PNG\n",
      "C:\\Users\\hp\\Desktop\\python.ai\\class_2.ipynb;filename_=_UTF-8''class%202.enc\n",
      "C:\\Users\\hp\\Desktop\\python.ai\\data for panda exercise.csv\n",
      "C:\\Users\\hp\\Desktop\\python.ai\\Election data 2018 - Copy.csv\n",
      "C:\\Users\\hp\\Desktop\\python.ai\\escape_char.ipynb;filename_=_UTF-8''escape%20char.enc\n",
      "C:\\Users\\hp\\Desktop\\python.ai\\Git-2.21.0-32-bit.exe.enc\n",
      "C:\\Users\\hp\\Desktop\\python.ai\\Learning pandas.pdf\n",
      "C:\\Users\\hp\\Desktop\\python.ai\\NumPy-3rd-Edition.pdf\n",
      "C:\\Users\\hp\\Desktop\\python.ai\\pakistan-elections 2018.ipynb\n",
      "C:\\Users\\hp\\Desktop\\python.ai\\Python Crash Course.pdf\n",
      "C:\\Users\\hp\\Desktop\\python.ai\\python developer outline.PNG\n",
      "C:\\Users\\hp\\Desktop\\python.ai\\Python for Data Analysis.pdf\n",
      "C:\\Users\\hp\\Desktop\\python.ai\\school data pandas work.ipynb\n",
      "C:\\Users\\hp\\Desktop\\python.ai\\Thomas_Calculus--_11th_edition---_Solution_Manual---G.Thomas_Weiretal.pdf\n",
      "C:\\Users\\hp\\Desktop\\python.ai\\9-Apr-2019 (1).ipynb\n",
      "C:\\Users\\hp\\Desktop\\python.ai\\9-Apr-2019.ipynb\n",
      "C:\\Users\\hp\\Desktop\\python.ai\\aman9\n",
      "C:\\Users\\hp\\Desktop\\python.ai\\aman99\n",
      "C:\\Users\\hp\\Desktop\\python.ai\\automatetheboringstuffwithpython.pdf\n",
      "C:\\Users\\hp\\Desktop\\python.ai\\A_SmarterWay_to_Learn_Python.pdf;filename_=_UTF-8''A%20SmarterWay%20to%20Learn%20Python.pdf\n",
      "C:\\Users\\hp\\Desktop\\python.ai\\Capture.PNG\n",
      "C:\\Users\\hp\\Desktop\\python.ai\\class_2.ipynb;filename_=_UTF-8''class%202.enc\n",
      "C:\\Users\\hp\\Desktop\\python.ai\\data for panda exercise.csv\n",
      "C:\\Users\\hp\\Desktop\\python.ai\\Election data 2018 - Copy.csv\n",
      "C:\\Users\\hp\\Desktop\\python.ai\\escape_char.ipynb;filename_=_UTF-8''escape%20char.enc\n",
      "C:\\Users\\hp\\Desktop\\python.ai\\Git-2.21.0-32-bit.exe.enc\n",
      "C:\\Users\\hp\\Desktop\\python.ai\\Learning pandas.pdf\n",
      "C:\\Users\\hp\\Desktop\\python.ai\\NumPy-3rd-Edition.pdf\n",
      "C:\\Users\\hp\\Desktop\\python.ai\\pakistan-elections 2018.ipynb\n",
      "C:\\Users\\hp\\Desktop\\python.ai\\Python Crash Course.pdf\n",
      "C:\\Users\\hp\\Desktop\\python.ai\\python developer outline.PNG\n",
      "C:\\Users\\hp\\Desktop\\python.ai\\Python for Data Analysis.pdf\n",
      "C:\\Users\\hp\\Desktop\\python.ai\\school data pandas work.ipynb\n",
      "C:\\Users\\hp\\Desktop\\python.ai\\Thomas_Calculus--_11th_edition---_Solution_Manual---G.Thomas_Weiretal.pdf\n"
     ]
    }
   ],
   "source": [
    "import os \n",
    "for item in os.listdir(r'C:\\Users\\hp\\Desktop\\python.ai'):\n",
    "    path=os.path.join(r'C:\\Users\\hp\\Desktop\\python.ai',item)\n",
    "    print(path)\n",
    "#ye file ky ander jitny folder hain aunka name or path batata ha"
   ]
  },
  {
   "cell_type": "code",
   "execution_count": 3,
   "metadata": {},
   "outputs": [
    {
     "name": "stdout",
     "output_type": "stream",
     "text": [
      "1\n",
      "2\n",
      "3\n",
      "4\n"
     ]
    },
    {
     "ename": "StopIteration",
     "evalue": "",
     "output_type": "error",
     "traceback": [
      "\u001b[0;31m---------------------------------------------------------------------------\u001b[0m",
      "\u001b[0;31mStopIteration\u001b[0m                             Traceback (most recent call last)",
      "\u001b[0;32m<ipython-input-3-2e6aa07dfe18>\u001b[0m in \u001b[0;36m<module>\u001b[0;34m\u001b[0m\n\u001b[1;32m      6\u001b[0m \u001b[0mprint\u001b[0m\u001b[0;34m(\u001b[0m\u001b[0mnext\u001b[0m\u001b[0;34m(\u001b[0m\u001b[0mi\u001b[0m\u001b[0;34m)\u001b[0m\u001b[0;34m)\u001b[0m\u001b[0;34m\u001b[0m\u001b[0;34m\u001b[0m\u001b[0m\n\u001b[1;32m      7\u001b[0m \u001b[0mprint\u001b[0m\u001b[0;34m(\u001b[0m\u001b[0mnext\u001b[0m\u001b[0;34m(\u001b[0m\u001b[0mi\u001b[0m\u001b[0;34m)\u001b[0m\u001b[0;34m)\u001b[0m\u001b[0;34m\u001b[0m\u001b[0;34m\u001b[0m\u001b[0m\n\u001b[0;32m----> 8\u001b[0;31m \u001b[0mprint\u001b[0m\u001b[0;34m(\u001b[0m\u001b[0mnext\u001b[0m\u001b[0;34m(\u001b[0m\u001b[0mi\u001b[0m\u001b[0;34m)\u001b[0m\u001b[0;34m)\u001b[0m\u001b[0;34m\u001b[0m\u001b[0;34m\u001b[0m\u001b[0m\n\u001b[0m",
      "\u001b[0;31mStopIteration\u001b[0m: "
     ]
    }
   ],
   "source": [
    "#generators\n",
    "l=[1,2,3,4]#iterable\n",
    "i=iter(l)\n",
    "print(next(i))\n",
    "print(next(i))\n",
    "print(next(i))\n",
    "print(next(i))\n",
    "print(next(i))"
   ]
  },
  {
   "cell_type": "code",
   "execution_count": 11,
   "metadata": {},
   "outputs": [
    {
     "name": "stdout",
     "output_type": "stream",
     "text": [
      "1\n",
      "4\n",
      "9\n",
      "16\n"
     ]
    }
   ],
   "source": [
    "#or yahn iterable iterator ma change hoga map pehly sy hi iterator hota ha\n",
    "for num in map(lambda a:a**2,l):\n",
    "    print(num)"
   ]
  },
  {
   "cell_type": "code",
   "execution_count": 11,
   "metadata": {},
   "outputs": [
    {
     "name": "stdout",
     "output_type": "stream",
     "text": [
      "<function nums at 0x7f0a8f1c9950>\n"
     ]
    }
   ],
   "source": [
    "#generator ma ek time par ek hi memory use hoti ha l=[1,2,3],to phely(1),(2)and (3)par ayga is tarah memory kam\n",
    "#use hogi or memory sy puraha number delete kardeta hafor i in even(9):\n",
    "    print(i)\n",
    "def nums(n):\n",
    "    for i in nums(1,n+1):\n",
    "        yield 'i'\n",
    "nums(10)\n",
    "print(nums)"
   ]
  },
  {
   "cell_type": "code",
   "execution_count": 16,
   "metadata": {},
   "outputs": [
    {
     "name": "stdout",
     "output_type": "stream",
     "text": [
      "1\n",
      "2\n",
      "3\n"
     ]
    }
   ],
   "source": [
    "def simpleGeneratorFun(): \n",
    "    yield 1\n",
    "    yield 2\n",
    "    yield 3\n",
    "  \n",
    "# Driver code to check above generator function \n",
    "for value in simpleGeneratorFun():  \n",
    "    print(value) \n"
   ]
  },
  {
   "cell_type": "code",
   "execution_count": 14,
   "metadata": {},
   "outputs": [
    {
     "name": "stdout",
     "output_type": "stream",
     "text": [
      "2\n",
      "4\n",
      "6\n",
      "8\n"
     ]
    }
   ],
   "source": [
    "def even(n):\n",
    "    for i in range(1,n+1):\n",
    "        if i%2==0:\n",
    "            yield i\n",
    "even_num=even(9)\n",
    "for i in even_num:\n",
    "    print(i)\n",
    "#yahan jitna mera print ki condition de dun lekin ek dafa hi print karega isko kehty hain generator"
   ]
  },
  {
   "cell_type": "code",
   "execution_count": 17,
   "metadata": {},
   "outputs": [
    {
     "name": "stdout",
     "output_type": "stream",
     "text": [
      "2\n",
      "4\n",
      "6\n",
      "8\n",
      "2\n",
      "4\n",
      "6\n",
      "8\n"
     ]
    }
   ],
   "source": [
    "#def even(n):\n",
    " #   for i in range(1,n+1):\n",
    "  #      if i%2==0:\n",
    "   #         yield i\n",
    "#even_num=even(9)\n",
    "for i in even(9):\n",
    "    print(i)\n",
    "for i in even(9):\n",
    "    print(i)"
   ]
  },
  {
   "cell_type": "code",
   "execution_count": 10,
   "metadata": {},
   "outputs": [
    {
     "name": "stdout",
     "output_type": "stream",
     "text": [
      "<generator object <genexpr> at 0x7fcca847a2a0>\n"
     ]
    },
    {
     "ename": "NameError",
     "evalue": "name 'even' is not defined",
     "output_type": "error",
     "traceback": [
      "\u001b[0;31m---------------------------------------------------------------------------\u001b[0m",
      "\u001b[0;31mNameError\u001b[0m                                 Traceback (most recent call last)",
      "\u001b[0;32m<ipython-input-10-f51d967753e1>\u001b[0m in \u001b[0;36m<module>\u001b[0;34m\u001b[0m\n\u001b[1;32m      2\u001b[0m \u001b[0msquare\u001b[0m\u001b[0;34m=\u001b[0m\u001b[0;34m(\u001b[0m\u001b[0mi\u001b[0m\u001b[0;34m**\u001b[0m\u001b[0;36m2\u001b[0m \u001b[0;32mfor\u001b[0m \u001b[0mi\u001b[0m \u001b[0;32min\u001b[0m \u001b[0mrange\u001b[0m\u001b[0;34m(\u001b[0m\u001b[0;36m1\u001b[0m\u001b[0;34m,\u001b[0m\u001b[0;36m10\u001b[0m\u001b[0;34m)\u001b[0m\u001b[0;34m)\u001b[0m\u001b[0;34m\u001b[0m\u001b[0;34m\u001b[0m\u001b[0m\n\u001b[1;32m      3\u001b[0m \u001b[0mprint\u001b[0m\u001b[0;34m(\u001b[0m\u001b[0msquare\u001b[0m\u001b[0;34m)\u001b[0m\u001b[0;34m\u001b[0m\u001b[0;34m\u001b[0m\u001b[0m\n\u001b[0;32m----> 4\u001b[0;31m \u001b[0;32mfor\u001b[0m \u001b[0mi\u001b[0m \u001b[0;32min\u001b[0m \u001b[0meven\u001b[0m\u001b[0;34m(\u001b[0m\u001b[0;36m9\u001b[0m\u001b[0;34m)\u001b[0m\u001b[0;34m:\u001b[0m\u001b[0;34m\u001b[0m\u001b[0;34m\u001b[0m\u001b[0m\n\u001b[0m\u001b[1;32m      5\u001b[0m     \u001b[0mprint\u001b[0m\u001b[0;34m(\u001b[0m\u001b[0mi\u001b[0m\u001b[0;34m)\u001b[0m\u001b[0;34m\u001b[0m\u001b[0;34m\u001b[0m\u001b[0m\n\u001b[1;32m      6\u001b[0m \u001b[0;32mfor\u001b[0m \u001b[0mi\u001b[0m \u001b[0;32min\u001b[0m \u001b[0msquare\u001b[0m\u001b[0;34m:\u001b[0m\u001b[0;34m\u001b[0m\u001b[0;34m\u001b[0m\u001b[0m\n",
      "\u001b[0;31mNameError\u001b[0m: name 'even' is not defined"
     ]
    }
   ],
   "source": [
    "#generator comperhension\n",
    "square=(i**2 for i in range(1,10))\n",
    "print(square)\n",
    "for i in even(9):\n",
    "    print(i)\n",
    "for i in square:\n",
    "    print(i)\n",
    "for i in square:\n",
    "    print(i)"
   ]
  },
  {
   "cell_type": "code",
   "execution_count": 11,
   "metadata": {},
   "outputs": [
    {
     "name": "stdout",
     "output_type": "stream",
     "text": [
      "1\n",
      "4\n",
      "9\n",
      "16\n",
      "25\n",
      "36\n",
      "49\n",
      "64\n",
      "81\n"
     ]
    }
   ],
   "source": [
    "for i in square:\n",
    "    print(i)"
   ]
  },
  {
   "cell_type": "code",
   "execution_count": 12,
   "metadata": {},
   "outputs": [
    {
     "name": "stdout",
     "output_type": "stream",
     "text": [
      "<generator object <genexpr> at 0x7fcca847a2a0>\n"
     ]
    }
   ],
   "source": [
    "print(square)"
   ]
  },
  {
   "cell_type": "code",
   "execution_count": null,
   "metadata": {},
   "outputs": [],
   "source": []
  },
  {
   "cell_type": "code",
   "execution_count": null,
   "metadata": {},
   "outputs": [],
   "source": []
  }
 ],
 "metadata": {
  "kernelspec": {
   "display_name": "Python 3",
   "language": "python",
   "name": "python3"
  },
  "language_info": {
   "codemirror_mode": {
    "name": "ipython",
    "version": 3
   },
   "file_extension": ".py",
   "mimetype": "text/x-python",
   "name": "python",
   "nbconvert_exporter": "python",
   "pygments_lexer": "ipython3",
   "version": "3.7.3"
  }
 },
 "nbformat": 4,
 "nbformat_minor": 2
}
